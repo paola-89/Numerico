{
  "nbformat": 4,
  "nbformat_minor": 0,
  "metadata": {
    "colab": {
      "provenance": [],
      "authorship_tag": "ABX9TyN2XyJSNNeHnG5FnxMMeprD",
      "include_colab_link": true
    },
    "kernelspec": {
      "name": "python3",
      "display_name": "Python 3"
    },
    "language_info": {
      "name": "python"
    }
  },
  "cells": [
    {
      "cell_type": "markdown",
      "metadata": {
        "id": "view-in-github",
        "colab_type": "text"
      },
      "source": [
        "<a href=\"https://colab.research.google.com/github/paola-89/Numerico/blob/main/Ejercicio1.ipynb\" target=\"_parent\"><img src=\"https://colab.research.google.com/assets/colab-badge.svg\" alt=\"Open In Colab\"/></a>"
      ]
    },
    {
      "cell_type": "markdown",
      "source": [
        "# **Tarea 1**\n",
        "*Integrantes:*\n",
        "\n",
        "\n",
        "*   Castillo Saldivar Paola\n",
        "*   Islas Castro Diego Armando\n",
        "*   Maldonado Cruz Josué Iván    \n",
        "\n"
      ],
      "metadata": {
        "id": "sqx5GUbMo8fY"
      }
    },
    {
      "cell_type": "markdown",
      "source": [
        "# **Ejercicio 1.1**\n"
      ],
      "metadata": {
        "id": "EC7hNcKlqnJr"
      }
    },
    {
      "cell_type": "code",
      "execution_count": null,
      "metadata": {
        "colab": {
          "base_uri": "https://localhost:8080/"
        },
        "id": "iE9B4yeGGaoM",
        "outputId": "e64f7e0a-3afc-439b-9935-6b68ada0be72"
      },
      "outputs": [
        {
          "output_type": "stream",
          "name": "stdout",
          "text": [
            "Tamaño de la matriz: 10x10\n",
            "Tiempo multiplicación normal: 0.001189 s\n",
            "Tiempo multiplicación por bloques: 0.000857 s\n",
            "Mejor tiempo: Bloques\n",
            "\n",
            "Tamaño de la matriz: 20x20\n",
            "Tiempo multiplicación normal: 0.019089 s\n",
            "Tiempo multiplicación por bloques: 0.015402 s\n",
            "Mejor tiempo: Bloques\n",
            "\n",
            "Tamaño de la matriz: 30x30\n",
            "Tiempo multiplicación normal: 0.066626 s\n",
            "Tiempo multiplicación por bloques: 0.049547 s\n",
            "Mejor tiempo: Bloques\n",
            "\n",
            "Tamaño de la matriz: 40x40\n",
            "Tiempo multiplicación normal: 0.179883 s\n",
            "Tiempo multiplicación por bloques: 0.116554 s\n",
            "Mejor tiempo: Bloques\n",
            "\n",
            "Tamaño de la matriz: 50x50\n",
            "Tiempo multiplicación normal: 0.267662 s\n",
            "Tiempo multiplicación por bloques: 0.217959 s\n",
            "Mejor tiempo: Bloques\n",
            "\n",
            "Tamaño de la matriz: 60x60\n",
            "Tiempo multiplicación normal: 0.561069 s\n",
            "Tiempo multiplicación por bloques: 0.337688 s\n",
            "Mejor tiempo: Bloques\n",
            "\n",
            "Tamaño de la matriz: 70x70\n",
            "Tiempo multiplicación normal: 0.674347 s\n",
            "Tiempo multiplicación por bloques: 0.563966 s\n",
            "Mejor tiempo: Bloques\n",
            "\n",
            "Tamaño de la matriz: 80x80\n",
            "Tiempo multiplicación normal: 1.166778 s\n",
            "Tiempo multiplicación por bloques: 0.787137 s\n",
            "Mejor tiempo: Bloques\n",
            "\n",
            "Tamaño de la matriz: 90x90\n",
            "Tiempo multiplicación normal: 1.818717 s\n",
            "Tiempo multiplicación por bloques: 1.021187 s\n",
            "Mejor tiempo: Bloques\n",
            "\n",
            "Tamaño de la matriz: 100x100\n",
            "Tiempo multiplicación normal: 1.139102 s\n",
            "Tiempo multiplicación por bloques: 0.700659 s\n",
            "Mejor tiempo: Bloques\n",
            "\n"
          ]
        }
      ],
      "source": [
        "import numpy as np\n",
        "\n",
        "import time\n",
        "\n",
        "\n",
        "\n",
        "# Multiplicación por bloques\n",
        "\n",
        "\n",
        "\n",
        "# Para hacer la multiplicación de matrices por bloques debemos definir una función\n",
        "\n",
        "# que divida las matrices\n",
        "\n",
        "def dividir_matriz_en_bloques(M, tamano_bloque):\n",
        "\n",
        "    bloques = []\n",
        "\n",
        "    n = len(M)\n",
        "\n",
        "    for i in range(0, n, tamano_bloque):\n",
        "\n",
        "        fila_bloques = []\n",
        "\n",
        "        for j in range(0, n, tamano_bloque):\n",
        "\n",
        "            bloque = [fila[j:j+tamano_bloque] for fila in M[i:i+tamano_bloque]]\n",
        "\n",
        "            fila_bloques.append(bloque)\n",
        "\n",
        "        bloques.append(fila_bloques)\n",
        "\n",
        "    return bloques\n",
        "\n",
        "\n",
        "\n",
        "def multiplicacion_bloques(A, B, tamano_bloque):\n",
        "\n",
        "    n = len(A)\n",
        "\n",
        "    C = np.zeros((n, n))\n",
        "\n",
        "\n",
        "\n",
        "    bloques_A = dividir_matriz_en_bloques(A, tamano_bloque)\n",
        "\n",
        "    bloques_B = dividir_matriz_en_bloques(B, tamano_bloque)\n",
        "\n",
        "\n",
        "\n",
        "    num_bloques = len(bloques_A)\n",
        "\n",
        "\n",
        "\n",
        "    for i in range(num_bloques):\n",
        "\n",
        "        for j in range(num_bloques):\n",
        "\n",
        "            for k in range(num_bloques):\n",
        "\n",
        "                for bi in range(tamano_bloque):\n",
        "\n",
        "                    for bj in range(tamano_bloque):\n",
        "\n",
        "                        suma = 0\n",
        "\n",
        "                        for bk in range(tamano_bloque):\n",
        "\n",
        "                            suma += bloques_A[i][k][bi][bk] * bloques_B[k][j][bk][bj]\n",
        "\n",
        "                        C[i*tamano_bloque + bi][j*tamano_bloque + bj] += suma\n",
        "\n",
        "\n",
        "\n",
        "    return C\n",
        "\n",
        "\n",
        "\n",
        "# Multiplicación tradicional\n",
        "\n",
        "def MultMat(Mat1, Mat2):\n",
        "\n",
        "    \"\"\"Multiplica dos matrices usando el algoritmo tradicional.\"\"\"\n",
        "\n",
        "    Mat3 = np.zeros((Mat1.shape[0], Mat2.shape[1]))\n",
        "\n",
        "    for row in range(Mat1.shape[0]):\n",
        "\n",
        "        for col in range(Mat2.shape[1]):\n",
        "\n",
        "            for aux in range(Mat2.shape[0]):\n",
        "\n",
        "                Mat3[row, col] += Mat1[row, aux] * Mat2[aux, col]\n",
        "\n",
        "    return Mat3\n",
        "\n",
        "\n",
        "\n",
        "# Comparar tiempos de ejecución para diferentes tamaños de matrices\n",
        "\n",
        "def comparar_multiplicaciones(n, block_size):\n",
        "\n",
        "    # Generando matrices aleatorias\n",
        "\n",
        "    A = np.random.rand(n, n)\n",
        "\n",
        "    B = np.random.rand(n, n)\n",
        "\n",
        "\n",
        "\n",
        "    # Multiplicación tradicional y medición de tiempo\n",
        "\n",
        "    start = time.time()\n",
        "\n",
        "    C_normal = MultMat(A, B)\n",
        "\n",
        "    time_normal = time.time() - start\n",
        "\n",
        "\n",
        "\n",
        "    # Multiplicación por bloques y medición de tiempo\n",
        "\n",
        "    start = time.time()\n",
        "\n",
        "    C_blocks = multiplicacion_bloques(A, B, block_size)\n",
        "\n",
        "    time_blocks = time.time() - start\n",
        "\n",
        "\n",
        "\n",
        "    # Comparación de tiempos\n",
        "\n",
        "    print(f\"Tamaño de la matriz: {n}x{n}\")\n",
        "\n",
        "    print(f\"Tiempo multiplicación normal: {time_normal:.6f} s\")\n",
        "\n",
        "    print(f\"Tiempo multiplicación por bloques: {time_blocks:.6f} s\")\n",
        "\n",
        "    print(f\"Mejor tiempo: {'Bloques' if time_blocks < time_normal else 'Normal'}\\n\")\n",
        "\n",
        "\n",
        "\n",
        "# Ejecutar comparaciones para tamaños de matrices de 10 a 100\n",
        "\n",
        "block_size = 10  # Tamaño de bloque\n",
        "\n",
        "for n in range(10, 101, 10):\n",
        "\n",
        "    comparar_multiplicaciones(n, block_size)\n",
        "\n"
      ]
    },
    {
      "cell_type": "markdown",
      "source": [
        "# **Ejercicio 1.2**"
      ],
      "metadata": {
        "id": "bm4w8Hcqqt0j"
      }
    },
    {
      "cell_type": "code",
      "source": [
        "def suma_bloques(A, B, block_size):\n",
        "\n",
        "    n = len(A)\n",
        "\n",
        "    C = [[0 for _ in range(n)] for _ in range(n)]  # Inicializa la matriz C\n",
        "\n",
        "\n",
        "\n",
        "    for i in range(0, n, block_size):\n",
        "\n",
        "        for j in range(0, n, block_size):\n",
        "\n",
        "            for bi in range(i, min(i + block_size, n)):\n",
        "\n",
        "                for bj in range(j, min(j + block_size, n)):\n",
        "\n",
        "                    C[bi][bj] = A[bi][bj] + B[bi][bj]\n",
        "\n",
        "    return C\n",
        "\n",
        "\n",
        "\n",
        "# Ejemplo de matrices 4x4\n",
        "\n",
        "A = [\n",
        "\n",
        "    [1, 2, 3, 4],\n",
        "\n",
        "    [5, 6, 7, 8],\n",
        "\n",
        "    [9, 10, 11, 12],\n",
        "\n",
        "    [13, 14, 15, 16]\n",
        "\n",
        "]\n",
        "\n",
        "\n",
        "\n",
        "B = [\n",
        "\n",
        "    [16, 15, 14, 13],\n",
        "\n",
        "    [12, 11, 10, 9],\n",
        "\n",
        "    [8, 7, 6, 5],\n",
        "\n",
        "    [4, 3, 2, 1]\n",
        "\n",
        "]\n",
        "\n",
        "\n",
        "\n",
        "# Tamaño del bloque\n",
        "\n",
        "block_size = 2\n",
        "\n",
        "\n",
        "\n",
        "# Sumar las matrices\n",
        "\n",
        "C = suma_bloques(A, B, block_size)\n",
        "\n",
        "\n",
        "\n",
        "# Imprimir la matriz resultante\n",
        "\n",
        "for fila in C:\n",
        "\n",
        "    print(fila)"
      ],
      "metadata": {
        "colab": {
          "base_uri": "https://localhost:8080/"
        },
        "id": "IMF9Sx5VIpPR",
        "outputId": "25c12c2a-2254-40a9-90ba-6e5db8dfc6d6"
      },
      "execution_count": null,
      "outputs": [
        {
          "output_type": "stream",
          "name": "stdout",
          "text": [
            "[17, 17, 17, 17]\n",
            "[17, 17, 17, 17]\n",
            "[17, 17, 17, 17]\n",
            "[17, 17, 17, 17]\n"
          ]
        }
      ]
    },
    {
      "cell_type": "markdown",
      "source": [
        "# **Ejercicio 1.3**"
      ],
      "metadata": {
        "id": "Em2VnStFcXo0"
      }
    },
    {
      "cell_type": "code",
      "source": [
        "def producto_punto_bloques(v1, v2, block_size):\n",
        "\n",
        "  n = len(v1)\n",
        "\n",
        "  resultado = 0\n",
        "\n",
        "  for i in range(0, n, block_size):\n",
        "\n",
        "    suma_bloques = 0\n",
        "\n",
        "    for j in range(i, min(i + block_size, n)):\n",
        "\n",
        "      suma_bloques += v1[j] * v2[j]\n",
        "\n",
        "    resultado += suma_bloques\n",
        "\n",
        "  return resultado\n",
        "\n",
        "\n",
        "\n",
        "v1 = [1, 2, 3, 4, 5, 6, 7, 8, 9, 10]\n",
        "\n",
        "v2 = [10, 9, 8, 7, 6, 5, 4, 3, 2, 1]\n",
        "\n",
        "block_size = 3\n",
        "\n",
        "\n",
        "\n",
        "resultado = producto_punto_bloques(v1, v2, block_size)\n",
        "\n",
        "print(resultado)\n",
        "\n"
      ],
      "metadata": {
        "colab": {
          "base_uri": "https://localhost:8080/"
        },
        "id": "UCqZGquMJ1sX",
        "outputId": "18040cda-23e0-4703-c3f4-8158fb7a7b8f"
      },
      "execution_count": null,
      "outputs": [
        {
          "output_type": "stream",
          "name": "stdout",
          "text": [
            "220\n"
          ]
        }
      ]
    },
    {
      "cell_type": "markdown",
      "source": [
        "# **Ejercicio 1.4**"
      ],
      "metadata": {
        "id": "bQ-rNX-jcxc-"
      }
    },
    {
      "cell_type": "code",
      "source": [
        "def transpuesta_conjugada(Mat):\n",
        "\n",
        "  filas = len(matriz)\n",
        "\n",
        "  columnas = len(matriz[0])\n",
        "\n",
        "  transpuesta = [[0 for _ in range(filas)] for _ in range(columnas)]\n",
        "\n",
        "  for i in range (filas):\n",
        "\n",
        "    for j in range(columnas):\n",
        "\n",
        "      transpuesta[j][i] = matriz[i][j].conjugate()\n",
        "\n",
        "  return transpuesta\n",
        "\n",
        "\n",
        "\n",
        "matriz = [[2 + 1j, 3 - 2j], [1 - 1j, 4 + 0j]]\n",
        "\n",
        "resultado = transpuesta_conjugada(matriz)\n",
        "\n",
        "print(resultado)\n",
        "\n",
        "\n",
        "\n"
      ],
      "metadata": {
        "colab": {
          "base_uri": "https://localhost:8080/"
        },
        "id": "Zk6QIxG3ObxU",
        "outputId": "54498461-1a2f-4e05-c284-9948d9f7305c"
      },
      "execution_count": null,
      "outputs": [
        {
          "output_type": "stream",
          "name": "stdout",
          "text": [
            "[[(2-1j), (1+1j)], [(3+2j), (4-0j)]]\n"
          ]
        }
      ]
    },
    {
      "cell_type": "markdown",
      "source": [
        "# **Ejercicio 1.5**"
      ],
      "metadata": {
        "id": "wgXZUvGrugM4"
      }
    },
    {
      "cell_type": "code",
      "source": [
        "def multiplicar_matrices(A, B):\n",
        "\n",
        "    \"\"\"\n",
        "\n",
        "    Multiplica dos matrices A y B de tamaño 50x50.\n",
        "\n",
        "\n",
        "\n",
        "    Parámetros:\n",
        "\n",
        "    A, B: Listas de listas que representan las matrices de 50x50.\n",
        "\n",
        "\n",
        "\n",
        "    Retorna:\n",
        "\n",
        "    Una nueva matriz que es el resultado de A * B.\n",
        "\n",
        "    \"\"\"\n",
        "\n",
        "    tamaño = len(A)\n",
        "\n",
        "    # Inicializar la matriz resultado con ceros\n",
        "\n",
        "    resultado = [[0 for _ in range(tamaño)] for _ in range(tamaño)]\n",
        "\n",
        "\n",
        "\n",
        "    # Realizar la multiplicación de matrices\n",
        "\n",
        "    for i in range(tamaño):\n",
        "\n",
        "        for j in range(tamaño):\n",
        "\n",
        "            suma = 0\n",
        "\n",
        "            for k in range(tamaño):\n",
        "\n",
        "                suma += A[i][k] * B[k][j]\n",
        "\n",
        "            resultado[i][j] = suma\n",
        "\n",
        "\n",
        "\n",
        "    return resultado\n",
        "\n",
        "\n",
        "\n",
        "\n",
        "\n",
        "\n",
        "\n",
        "\n",
        "\n",
        "def potencia_matriz(A, n):\n",
        "\n",
        "    \"\"\"\n",
        "\n",
        "    Calcula la potencia n-ésima de una matriz A de tamaño 50x50.\n",
        "\n",
        "\n",
        "\n",
        "    Parámetros:\n",
        "\n",
        "    A: Lista de listas que representa la matriz de 50x50.\n",
        "\n",
        "    n: Entero que indica la potencia a la que se elevará la matriz.\n",
        "\n",
        "\n",
        "\n",
        "    Retorna:\n",
        "\n",
        "    La matriz A elevada a la potencia n.\n",
        "\n",
        "    \"\"\"\n",
        "\n",
        "    # Inicializar la matriz resultado como la matriz identidad\n",
        "\n",
        "    tamaño = len(A)\n",
        "\n",
        "    resultado = [[1 if i == j else 0 for j in range(tamaño)] for i in range(tamaño)]\n",
        "\n",
        "\n",
        "\n",
        "    # Multiplicar la matriz por sí misma n veces\n",
        "\n",
        "    for _ in range(n):\n",
        "\n",
        "        resultado = multiplicar_matrices(resultado, A)\n",
        "\n",
        "\n",
        "\n",
        "    return resultado\n",
        "\n",
        "\n",
        "\n",
        "# Definir una matriz de 50x50 (por simplicidad, se utiliza una matriz con valores arbitrarios)\n",
        "\n",
        "import random\n",
        "\n",
        "\n",
        "\n",
        "tamaño = 50\n",
        "\n",
        "matriz = [[random.random() for _ in range(tamaño)] for _ in range(tamaño)]\n",
        "\n",
        "\n",
        "\n",
        "# Calcular la matriz elevada al cubo\n",
        "\n",
        "n = 3\n",
        "\n",
        "matriz_potencia = potencia_matriz(matriz, n)\n",
        "\n",
        "\n",
        "\n",
        "# Mostrar algunos elementos de la matriz resultante\n",
        "\n",
        "for fila in matriz_potencia[:5]: # Mostrar solo las primeras 5 filas por brevedad\n",
        "\n",
        "    print(fila[:5]) # Mostrar solo las primeras 5 columnas por brevedad\n",
        "\n"
      ],
      "metadata": {
        "colab": {
          "base_uri": "https://localhost:8080/"
        },
        "id": "6akPRfrwP1gQ",
        "outputId": "0b20b8fd-6816-4ea0-d838-021f8039b414"
      },
      "execution_count": null,
      "outputs": [
        {
          "output_type": "stream",
          "name": "stdout",
          "text": [
            "[264.15798148400364, 273.60903049654746, 251.61724013496277, 264.12534108447693, 266.04949100425347]\n",
            "[283.8776882326529, 290.81526597612793, 263.3785414414059, 280.9371492579776, 280.46069727215723]\n",
            "[289.548481454214, 301.470411963869, 272.53091557185917, 288.9317040555778, 288.097925261967]\n",
            "[262.06138207044717, 271.1833052709158, 247.9957979222956, 259.72683884587974, 260.8175227121712]\n",
            "[315.92615780492144, 326.92616139710344, 295.18499386908627, 315.190494349249, 316.612995776557]\n"
          ]
        }
      ]
    },
    {
      "cell_type": "markdown",
      "source": [
        "# **Ejercicio 1.6**"
      ],
      "metadata": {
        "id": "zAVlE4-CulhV"
      }
    },
    {
      "cell_type": "code",
      "source": [
        "def producto_cruz(a, b):\n",
        "    \"\"\"\n",
        "    Calcula el producto cruz de dos vectores en R^3.\n",
        "\n",
        "    Parámetros:\n",
        "    a (list): Vector de la forma [a_x, a_y, a_z]\n",
        "    b (list): Vector de la forma [b_x, b_y, b_z]\n",
        "\n",
        "    Retorna:\n",
        "    list: Vector resultante del producto cruz [c_x, c_y, c_z]\n",
        "    \"\"\"\n",
        "    c_x = a[1] * b[2] - a[2] * b[1]\n",
        "    c_y = a[2] * b[0] - a[0] * b[2]\n",
        "    c_z = a[0] * b[1] - a[1] * b[0]\n",
        "    return [c_x, c_y, c_z]\n",
        "\n",
        "# Ejemplo de uso:\n",
        "vector_a = [1, 2, 3]\n",
        "vector_b = [4, 5, 6]\n",
        "resultado = producto_cruz(vector_a, vector_b)\n",
        "print(f\"El producto cruz de {vector_a} y {vector_b} es {resultado}\")"
      ],
      "metadata": {
        "colab": {
          "base_uri": "https://localhost:8080/"
        },
        "id": "dmyKbcSZQT-N",
        "outputId": "32264251-37e6-4f9a-9776-507edf052e4f"
      },
      "execution_count": null,
      "outputs": [
        {
          "output_type": "stream",
          "name": "stdout",
          "text": [
            "El producto cruz de [1, 2, 3] y [4, 5, 6] es [-3, 6, -3]\n"
          ]
        }
      ]
    },
    {
      "cell_type": "markdown",
      "source": [
        "# **Ejercicio 1.7**"
      ],
      "metadata": {
        "id": "KR0ODZZQg-r4"
      }
    },
    {
      "cell_type": "markdown",
      "source": [
        "## Rotación de un vector en 2D\n",
        "\n",
        "**Paso 1: Vector original y ángulo de rotación**\n",
        "\n",
        "El vector original es:\n",
        "\n",
        "$$\n",
        "v = \\begin{bmatrix} 1 \\\\ 0 \\end{bmatrix}\n",
        "$$\n",
        "\n",
        "y el ángulo de rotación es:\n",
        "\n",
        "\n",
        "$$45^\\circ$$\n",
        "\n",
        "---\n",
        "\n",
        "**Paso 2: Conversión a radianes**\n",
        "\n",
        "Para realizar el cálculo, primero convertimos el ángulo de 45° a radianes:\n",
        "\n",
        "$$\n",
        "45^\\circ = \\frac{45 \\pi}{180} = 0.7854 \\text{ rad}\n",
        "$$\n",
        "\n",
        "---\n",
        "\n",
        "**Paso 3: Cálculo de las componentes trigonométricas**\n",
        "\n",
        "Calculamos:\n",
        "\n",
        "$$\n",
        "\\cos(0.7854) \\approx 0.7071, \\quad \\sin(0.7854) \\approx 0.7071\n",
        "$$\n",
        "\n",
        "---\n",
        "\n",
        "**Paso 4: Matriz de rotación**\n",
        "\n",
        "La matriz de rotación para un ángulo $\\theta = 0.7854$ rad es:\n",
        "\n",
        "$$\n",
        "R(0.7854) = \\begin{bmatrix} 0.7071 & -0.7071 \\\\ 0.7071 & 0.7071 \\end{bmatrix}\n",
        "$$\n",
        "\n",
        "---\n",
        "\n",
        "**Paso 5: Multiplicación matricial**\n",
        "\n",
        "Multiplicamos la matriz de rotación por el vector:\n",
        "\n",
        "$$\n",
        "R(0.7854) \\cdot v =\n",
        "\\begin{bmatrix} 0.7071 & -0.7071 \\\\ 0.7071 & 0.7071 \\end{bmatrix}\n",
        "\\begin{bmatrix} 1 \\\\ 0 \\end{bmatrix}\n",
        "=\n",
        "\\begin{bmatrix} 0.7071 \\\\ 0.7071 \\end{bmatrix}\n",
        "$$\n",
        "\n",
        "---\n",
        "\n",
        "**Interpretación del resultado**\n",
        "\n",
        "El vector rotado es:\n",
        "\n",
        "$$\n",
        "v' = \\begin{bmatrix} 0.7071 \\\\ 0.7071 \\end{bmatrix}\n",
        "$$\n",
        "\n",
        "Esto indica que el vector original $v = (1,0)$ se ha rotado 45° en sentido antihorario, situándose en la dirección $(0.7071, 0.7071)$.\n"
      ],
      "metadata": {
        "id": "Ah0SPfUGnDNi"
      }
    },
    {
      "cell_type": "code",
      "source": [
        "from IPython.display import display, Math, Latex\n",
        "# ----------------------------------------------\n",
        "# Paso 6: ver la gráfiquini\n",
        "# ----------------------------------------------\n",
        "plt.figure(figsize=(7, 7))\n",
        "plt.axhline(0, color='gray', lw=0.5)\n",
        "plt.axvline(0, color='gray', lw=0.5)\n",
        "\n",
        "# Vectores\n",
        "plt.quiver(0, 0, 1, 0, angles='xy', scale_units='xy', scale=1, color='red', width=0.015, label='Original')\n",
        "plt.quiver(0, 0, 0.7071, 0.7071, angles='xy', scale_units='xy', scale=1, color='blue', width=0.015, label='Rotado')\n",
        "\n",
        "# Líneas de componentes\n",
        "plt.plot([0.7071, 0.7071], [0, 0.7071], 'k--', lw=0.8, alpha=0.5)\n",
        "plt.plot([0, 0.7071], [0.7071, 0.7071], 'k--', lw=0.8, alpha=0.5)\n",
        "\n",
        "# Añadir etiquetas\n",
        "plt.text(0.5, 0.05, r'$v = (1, 0)$', color='red', fontsize=12)\n",
        "plt.text(0.3, 0.5, r'$v\\' = \\left(\\frac{\\sqrt{2}}{2}, \\frac{\\sqrt{2}}{2}\\right)$', color='blue', fontsize=12)\n",
        "\n",
        "# Configuración final\n",
        "plt.title(\"Rotación de 45° en 2D\", fontsize=14)\n",
        "plt.xlim(-0.5, 1.2)\n",
        "plt.ylim(-0.5, 1.2)\n",
        "plt.grid(linestyle='dotted', alpha=0.6)\n",
        "plt.legend(loc='upper right')\n",
        "plt.gca().set_aspect('equal')\n",
        "plt.show()"
      ],
      "metadata": {
        "colab": {
          "base_uri": "https://localhost:8080/",
          "height": 622
        },
        "id": "Pr_Cyna8gg1x",
        "outputId": "7e39b8e0-9c62-497f-8c10-dad9c1ae0f67"
      },
      "execution_count": null,
      "outputs": [
        {
          "output_type": "display_data",
          "data": {
            "text/plain": [
              "<Figure size 700x700 with 1 Axes>"
            ],
            "image/png": "[encoded data removed]"
          },
          "metadata": {}
        }
      ]
    },
    {
      "cell_type": "code",
      "source": [
        "import math\n",
        "\n",
        "def rotar_vector(vector, angulo_grados):\n",
        "    \"\"\"\n",
        "    Rota un vector bidimensional por un ángulo dado en grados.\n",
        "\n",
        "    Parámetros:\n",
        "    vector (tuple): Vector en la forma (x, y).\n",
        "    angulo_grados (float): Ángulo de rotación en grados.\n",
        "\n",
        "    Retorna:\n",
        "    tuple: Nuevo vector rotado (x', y').\n",
        "    \"\"\"\n",
        "    angulo_radianes = math.radians(angulo_grados)\n",
        "    cos_theta = math.cos(angulo_radianes)\n",
        "    sin_theta = math.sin(angulo_radianes)\n",
        "\n",
        "    x, y = vector\n",
        "    x_nuevo = x * cos_theta - y * sin_theta\n",
        "    y_nuevo = x * sin_theta + y * cos_theta\n",
        "\n",
        "    return (x_nuevo, y_nuevo)\n",
        "\n",
        "# Ejemplo de uso:\n",
        "vector_original = (1, 0)\n",
        "angulo_rotacion = 45 # grados\n",
        "vector_rotado = rotar_vector(vector_original, angulo_rotacion)\n",
        "print(f\"Vector original: {vector_original}\")\n",
        "print(f\"Vector rotado por {angulo_rotacion}°: {vector_rotado}\")"
      ],
      "metadata": {
        "colab": {
          "base_uri": "https://localhost:8080/"
        },
        "id": "Hoy-BtExQ1GR",
        "outputId": "14ead42c-4317-49c9-891d-b47155de848f"
      },
      "execution_count": null,
      "outputs": [
        {
          "output_type": "stream",
          "name": "stdout",
          "text": [
            "Vector original: (1, 0)\n",
            "Vector rotado por 45°: (0.7071067811865476, 0.7071067811865475)\n"
          ]
        }
      ]
    },
    {
      "cell_type": "markdown",
      "source": [
        "#**Ejercicio 1.8**"
      ],
      "metadata": {
        "id": "CtwDL9Nqz2ha"
      }
    },
    {
      "cell_type": "code",
      "source": [
        "import math\n",
        "\n",
        "def rotar_vector_3d(vector, angulo_grados, eje):\n",
        "    \"\"\"\n",
        "    Rota un vector tridimensional alrededor de uno de los ejes principales.\n",
        "\n",
        "    Parámetros:\n",
        "    vector (tuple): Vector en la forma (x, y, z).\n",
        "    angulo_grados (float): Ángulo de rotación en grados.\n",
        "    eje (str): Eje de rotación ('x', 'y' o 'z').\n",
        "\n",
        "    Retorna:\n",
        "    tuple: Nuevo vector rotado (x', y', z').\n",
        "    \"\"\"\n",
        "    angulo_radianes = math.radians(angulo_grados)\n",
        "    cos_theta = math.cos(angulo_radianes)\n",
        "    sin_theta = math.sin(angulo_radianes)\n",
        "\n",
        "    x, y, z = vector\n",
        "\n",
        "    if eje == 'x':\n",
        "        y_nuevo = y * cos_theta - z * sin_theta\n",
        "        z_nuevo = y * sin_theta + z * cos_theta\n",
        "        x_nuevo = x\n",
        "    elif eje == 'y':\n",
        "        x_nuevo = x * cos_theta + z * sin_theta\n",
        "        z_nuevo = -x * sin_theta + z * cos_theta\n",
        "        y_nuevo = y\n",
        "    elif eje == 'z':\n",
        "        x_nuevo = x * cos_theta - y * sin_theta\n",
        "        y_nuevo = x * sin_theta + y * cos_theta\n",
        "        z_nuevo = z\n",
        "    else:\n",
        "        raise ValueError(\"El eje debe ser 'x', 'y' o 'z'.\")\n",
        "\n",
        "    return (x_nuevo, y_nuevo, z_nuevo)\n",
        "\n",
        "# Ejemplo de uso:\n",
        "vector_original = (1, 0, 0)\n",
        "angulo_rotacion = 90 # grados\n",
        "eje_rotacion = 'z'\n",
        "vector_rotado = rotar_vector_3d(vector_original, angulo_rotacion, eje_rotacion)\n",
        "print(f\"Vector original: {vector_original}\")\n",
        "print(f\"Vector rotado por {angulo_rotacion}° alrededor del eje {eje_rotacion}: {vector_rotado}\")"
      ],
      "metadata": {
        "colab": {
          "base_uri": "https://localhost:8080/"
        },
        "id": "MfQulJXTQ_0R",
        "outputId": "c257cd9f-9438-4140-9335-9453aee4e1b5"
      },
      "execution_count": null,
      "outputs": [
        {
          "output_type": "stream",
          "name": "stdout",
          "text": [
            "Vector original: (1, 0, 0)\n",
            "Vector rotado por 90° alrededor del eje z: (6.123233995736766e-17, 1.0, 0)\n"
          ]
        }
      ]
    },
    {
      "cell_type": "markdown",
      "source": [
        "# **Ejercicio 1.9**"
      ],
      "metadata": {
        "id": "LFJnbur5Eatl"
      }
    },
    {
      "cell_type": "code",
      "source": [
        "def norma1(matriz):\n",
        "    \"\"\"\n",
        "    Calcula la norma 1 de una matriz.\n",
        "\n",
        "    La norma 1 de una matriz es el máximo de las sumas absolutas de sus columnas.\n",
        "\n",
        "    Parámetros:\n",
        "    matriz (list of list): Matriz de entrada.\n",
        "\n",
        "    Retorna:\n",
        "    float: Valor de la norma 1.\n",
        "    \"\"\"\n",
        "    m = len(matriz)\n",
        "    n = len(matriz[0])\n",
        "    c = np.zeros_like(matriz[0])\n",
        "\n",
        "    for j in range(n):\n",
        "        for i in range(m):\n",
        "            c[j] += abs(matriz[i][j])\n",
        "\n",
        "    return max(c)\n",
        "\n",
        "\n",
        "# Ejemplo de uso\n",
        "A = [[2, 3, -4],\n",
        "     [0, -4, 2]]\n",
        "\n",
        "print(\"La norma 1 de la matriz A:\\n\", A)\n",
        "print(\"Es:\", norma1(A))"
      ],
      "metadata": {
        "colab": {
          "base_uri": "https://localhost:8080/"
        },
        "id": "xnbhgmzHn2hM",
        "outputId": "e8577877-01cb-485c-f84a-bb833f0809d4"
      },
      "execution_count": null,
      "outputs": [
        {
          "output_type": "stream",
          "name": "stdout",
          "text": [
            "La norma 1 de la matriz A:\n",
            " [[2, 3, -4], [0, -4, 2]]\n",
            "Es: 7\n"
          ]
        }
      ]
    },
    {
      "cell_type": "markdown",
      "source": [
        "# **EJERCICIO 1.10**"
      ],
      "metadata": {
        "id": "OOiYO0bHnk_B"
      }
    },
    {
      "cell_type": "code",
      "source": [
        "def norma_infinito(matriz):\n",
        "    return max(sum(abs(matriz[i][j]) for j in range(len(matriz[0]))) for i in range(len(matriz)))\n",
        "\n",
        "# Ejemplo de uso\n",
        "A = [[3, -2, 5], [1, -4, 2], [-2, 3, -1]]\n",
        "print(\"Norma infinito de A:\", norma_infinito(A))"
      ],
      "metadata": {
        "id": "I9torwL-n9XR",
        "colab": {
          "base_uri": "https://localhost:8080/"
        },
        "outputId": "f75e9d16-5c72-4577-addc-7b99a3efdfdb"
      },
      "execution_count": null,
      "outputs": [
        {
          "output_type": "stream",
          "name": "stdout",
          "text": [
            "Norma infinito de A: 10\n"
          ]
        }
      ]
    }
  ]
}