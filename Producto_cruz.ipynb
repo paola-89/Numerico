{
  "nbformat": 4,
  "nbformat_minor": 0,
  "metadata": {
    "colab": {
      "provenance": [],
      "authorship_tag": "ABX9TyMIx30A5mTMFGTQaXGhk7cp",
      "include_colab_link": true
    },
    "kernelspec": {
      "name": "python3",
      "display_name": "Python 3"
    },
    "language_info": {
      "name": "python"
    }
  },
  "cells": [
    {
      "cell_type": "markdown",
      "metadata": {
        "id": "view-in-github",
        "colab_type": "text"
      },
      "source": [
        "<a href=\"https://colab.research.google.com/github/paola-89/Numerico/blob/main/Producto_cruz.ipynb\" target=\"_parent\"><img src=\"https://colab.research.google.com/assets/colab-badge.svg\" alt=\"Open In Colab\"/></a>"
      ]
    },
    {
      "cell_type": "code",
      "execution_count": null,
      "metadata": {
        "id": "8aEnrsMVC6us"
      },
      "outputs": [],
      "source": []
    },
    {
      "cell_type": "markdown",
      "source": [
        "# **Ejercicio 1.6**"
      ],
      "metadata": {
        "id": "zAVlE4-CulhV"
      }
    },
    {
      "cell_type": "code",
      "source": [
        "def producto_cruz(a, b):\n",
        "    \"\"\"\n",
        "    Calcula el producto cruz de dos vectores en R^3.\n",
        "\n",
        "    Parámetros:\n",
        "    a (list): Vector de la forma [a_x, a_y, a_z]\n",
        "    b (list): Vector de la forma [b_x, b_y, b_z]\n",
        "\n",
        "    Retorna:\n",
        "    list: Vector resultante del producto cruz [c_x, c_y, c_z]\n",
        "    \"\"\"\n",
        "    c_x = a[1] * b[2] - a[2] * b[1]\n",
        "    c_y = a[2] * b[0] - a[0] * b[2]\n",
        "    c_z = a[0] * b[1] - a[1] * b[0]\n",
        "    return [c_x, c_y, c_z]\n",
        "\n",
        "# Ejemplo de uso:\n",
        "vector_a = [1, 2, 3]\n",
        "vector_b = [4, 5, 6]\n",
        "resultado = producto_cruz(vector_a, vector_b)\n",
        "print(f\"El producto cruz de {vector_a} y {vector_b} es {resultado}\")"
      ],
      "metadata": {
        "colab": {
          "base_uri": "https://localhost:8080/"
        },
        "id": "dmyKbcSZQT-N",
        "outputId": "32264251-37e6-4f9a-9776-507edf052e4f"
      },
      "execution_count": null,
      "outputs": [
        {
          "output_type": "stream",
          "name": "stdout",
          "text": [
            "El producto cruz de [1, 2, 3] y [4, 5, 6] es [-3, 6, -3]\n"
          ]
        }
      ]
    }
  ]
}