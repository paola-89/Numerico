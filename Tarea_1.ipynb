{
  "nbformat": 4,
  "nbformat_minor": 0,
  "metadata": {
    "colab": {
      "provenance": []
    },
    "kernelspec": {
      "name": "python3",
      "display_name": "Python 3"
    },
    "language_info": {
      "name": "python"
    }
  },
  "cells": [
    {
      "cell_type": "markdown",
      "source": [
        "# **Tarea 1**\n",
        "*Integrantes:*\n",
        "\n",
        "\n",
        "*   Castillo Saldivar Paola\n",
        "*   Islas Castro Diego Armando\n",
        "*   Maldonado Cruz Josué Iván    \n",
        "\n"
      ],
      "metadata": {
        "id": "sqx5GUbMo8fY"
      }
    },
    {
      "cell_type": "markdown",
      "source": [
        "# **Ejercicio 1.1**\n"
      ],
      "metadata": {
        "id": "EC7hNcKlqnJr"
      }
    },
    {
      "cell_type": "code",
      "source": [
        "import numpy as np\n",
        "import time\n",
        "\n",
        "# Multiplicación por bloques\n",
        "def multiplicacion_bloques(A, B, block_size):\n",
        "    \"\"\"Multiplica matrices A y B por bloques de tamaño block_size.\"\"\"\n",
        "    m, n = A.shape  # Dimensiones de la matriz A\n",
        "    n_B, p = B.shape  # Dimensiones de la matriz B\n",
        "    assert n == n_B, \"El número de columnas de A debe ser igual al número de filas de B\"\n",
        "\n",
        "    C = np.zeros((m, p))  # Matriz resultado\n",
        "\n",
        "    for i in range(0, m, block_size):  # Itera por bloques en filas de A\n",
        "        for j in range(0, p, block_size):  # Itera por bloques en columnas de B\n",
        "            for k in range(0, n, block_size):  # Itera por bloques internos\n",
        "                C[i:i+block_size, j:j+block_size] += np.dot(A[i:i+block_size, k:k+block_size],\n",
        "                                                             B[k:k+block_size, j:j+block_size])\n",
        "    return C\n",
        "\n",
        "# Multiplicación tradicional (La vista en clase, con algunos ajustes)\n",
        "def MultMat(Mat1, Mat2):\n",
        "    \"\"\"Multiplica dos matrices usando el algoritmo tradicional.\"\"\"\n",
        "    Mat3 = np.zeros((Mat1.shape[0], Mat2.shape[1]))\n",
        "    for row in range(Mat1.shape[0]):\n",
        "        for col in range(Mat2.shape[1]):\n",
        "            for aux in range(Mat2.shape[0]):\n",
        "                Mat3[row, col] += Mat1[row, aux] * Mat2[aux, col]\n",
        "    return Mat3\n",
        "\n",
        "# Comparar tiempos de ejecución para diferentes tamaños de matrices\n",
        "def comparar_multiplicaciones(n, block_size):\n",
        "    # Generando matrices aleatorias\n",
        "    A = np.random.rand(n, n)\n",
        "    B = np.random.rand(n, n)\n",
        "\n",
        "    # Multiplicación tradicional y medición de tiempo\n",
        "    start = time.time()\n",
        "    C_normal = MultMat(A, B)\n",
        "    time_normal = time.time() - start\n",
        "\n",
        "    # Multiplicación por bloques y medición de tiempo\n",
        "    start = time.time()\n",
        "    C_blocks = multiplicacion_bloques(A, B, block_size)\n",
        "    time_blocks = time.time() - start\n",
        "\n",
        "    # Comparación de tiempos\n",
        "    print(f\"Tamaño de la matriz: {n}x{n}\")\n",
        "    print(f\"Tiempo multiplicación normal: {time_normal:.6f} s\")\n",
        "    print(f\"Tiempo multiplicación por bloques: {time_blocks:.6f} s\")\n",
        "    print(f\"Mejor tiempo: {'Bloques' if time_blocks < time_normal else 'Normal'}\\n\")\n",
        "\n",
        "# Ejecutar comparaciones para tamaños de matrices de 10 a 100\n",
        "block_size = 10  # Tamaño de bloque\n",
        "for n in range(10, 101, 10):\n",
        "    comparar_multiplicaciones(n, block_size)\n"
      ],
      "metadata": {
        "colab": {
          "base_uri": "https://localhost:8080/"
        },
        "id": "qpDJAhACp-CT",
        "outputId": "609cf7e7-3b13-46d0-8307-96a559cbb6d0"
      },
      "execution_count": null,
      "outputs": [
        {
          "output_type": "stream",
          "name": "stdout",
          "text": [
            "Tamaño de la matriz: 10x10\n",
            "Tiempo multiplicación normal: 0.014285 s\n",
            "Tiempo multiplicación por bloques: 0.007358 s\n",
            "Mejor tiempo: Bloques\n",
            "\n",
            "Tamaño de la matriz: 20x20\n",
            "Tiempo multiplicación normal: 0.050849 s\n",
            "Tiempo multiplicación por bloques: 0.000226 s\n",
            "Mejor tiempo: Bloques\n",
            "\n",
            "Tamaño de la matriz: 30x30\n",
            "Tiempo multiplicación normal: 0.140437 s\n",
            "Tiempo multiplicación por bloques: 0.002471 s\n",
            "Mejor tiempo: Bloques\n",
            "\n",
            "Tamaño de la matriz: 40x40\n",
            "Tiempo multiplicación normal: 0.171287 s\n",
            "Tiempo multiplicación por bloques: 0.011841 s\n",
            "Mejor tiempo: Bloques\n",
            "\n",
            "Tamaño de la matriz: 50x50\n",
            "Tiempo multiplicación normal: 0.515901 s\n",
            "Tiempo multiplicación por bloques: 0.009727 s\n",
            "Mejor tiempo: Bloques\n",
            "\n",
            "Tamaño de la matriz: 60x60\n",
            "Tiempo multiplicación normal: 0.531399 s\n",
            "Tiempo multiplicación por bloques: 0.006377 s\n",
            "Mejor tiempo: Bloques\n",
            "\n",
            "Tamaño de la matriz: 70x70\n",
            "Tiempo multiplicación normal: 1.261977 s\n",
            "Tiempo multiplicación por bloques: 0.025669 s\n",
            "Mejor tiempo: Bloques\n",
            "\n",
            "Tamaño de la matriz: 80x80\n",
            "Tiempo multiplicación normal: 2.691520 s\n",
            "Tiempo multiplicación por bloques: 0.046537 s\n",
            "Mejor tiempo: Bloques\n",
            "\n",
            "Tamaño de la matriz: 90x90\n",
            "Tiempo multiplicación normal: 2.528992 s\n",
            "Tiempo multiplicación por bloques: 0.015912 s\n",
            "Mejor tiempo: Bloques\n",
            "\n",
            "Tamaño de la matriz: 100x100\n",
            "Tiempo multiplicación normal: 2.182966 s\n",
            "Tiempo multiplicación por bloques: 0.011616 s\n",
            "Mejor tiempo: Bloques\n",
            "\n"
          ]
        }
      ]
    },
    {
      "cell_type": "markdown",
      "source": [
        "# **Ejercicio 1.2**"
      ],
      "metadata": {
        "id": "bm4w8Hcqqt0j"
      }
    },
    {
      "cell_type": "code",
      "source": [
        "def suma_bloques(A, B, block_size):\n",
        "    \"\"\"Suma matrices A y B por bloques de tamaño block_size.\"\"\"\n",
        "    m, n = A.shape  # Dimensiones de la matriz A\n",
        "    m_B, p = B.shape  # Dimensiones de la matriz B\n",
        "    assert (m == m_B and n == p), \"Las matrices deben tener las mismas dimensiones\"\n",
        "\n",
        "    C = np.zeros((m, p))  # Matriz resultado\n",
        "\n",
        "    for i in range(0, m, block_size):  # Itera por bloques en filas\n",
        "        for j in range(0, p, block_size):  # Itera por bloques en columnas\n",
        "            # Suma de sub-bloques\n",
        "            C[i:i+block_size, j:j+block_size] = A[i:i+block_size, j:j+block_size] + B[i:i+block_size, j:j+block_size]\n",
        "\n",
        "    return C\n",
        "\n",
        "# Ejemplo de uso con matrices pequeñas\n",
        "n = 3  # Tamaño de la matriz (más pequeño para ver el ejemplo claramente)\n",
        "block_size = 1  # Tamaño de bloque\n",
        "\n",
        "# Generando matrices pequeñas\n",
        "A = ([[1, 2, 3],\n",
        "              [4, 5, 6],\n",
        "              [7, 8, 9]])\n",
        "\n",
        "B = ([[9, 8, 7],\n",
        "              [6, 5, 4],\n",
        "              [3, 2, 1]])\n",
        "\n",
        "# Suma de matrices por bloques\n",
        "C_blocks = suma_bloques(A, B, block_size)\n",
        "\n",
        "# Verificación con suma normal\n",
        "C_normal = A + B\n",
        "\n",
        "# Imprimir matrices y resultados\n",
        "print(\"Matriz A:\")\n",
        "print(A)\n",
        "\n",
        "print(\"\\nMatriz B:\")\n",
        "print(B)\n",
        "\n",
        "print(\"\\nSuma por bloques (C_blocks):\")\n",
        "print(C_blocks)\n",
        "\n",
        "print(\"\\nSuma normal (C_normal):\")\n",
        "print(C_normal)\n"
      ],
      "metadata": {
        "colab": {
          "base_uri": "https://localhost:8080/",
          "height": 343
        },
        "id": "xtgWI9YoqwX2",
        "outputId": "f0b20438-cd5e-4eb3-ac64-c5067b63327d"
      },
      "execution_count": null,
      "outputs": [
        {
          "output_type": "error",
          "ename": "AttributeError",
          "evalue": "'list' object has no attribute 'shape'",
          "traceback": [
            "\u001b[0;31m---------------------------------------------------------------------------\u001b[0m",
            "\u001b[0;31mAttributeError\u001b[0m                            Traceback (most recent call last)",
            "\u001b[0;32m<ipython-input-3-8d6be874a4f3>\u001b[0m in \u001b[0;36m<cell line: 0>\u001b[0;34m()\u001b[0m\n\u001b[1;32m     28\u001b[0m \u001b[0;34m\u001b[0m\u001b[0m\n\u001b[1;32m     29\u001b[0m \u001b[0;31m# Suma de matrices por bloques\u001b[0m\u001b[0;34m\u001b[0m\u001b[0;34m\u001b[0m\u001b[0m\n\u001b[0;32m---> 30\u001b[0;31m \u001b[0mC_blocks\u001b[0m \u001b[0;34m=\u001b[0m \u001b[0msuma_bloques\u001b[0m\u001b[0;34m(\u001b[0m\u001b[0mA\u001b[0m\u001b[0;34m,\u001b[0m \u001b[0mB\u001b[0m\u001b[0;34m,\u001b[0m \u001b[0mblock_size\u001b[0m\u001b[0;34m)\u001b[0m\u001b[0;34m\u001b[0m\u001b[0;34m\u001b[0m\u001b[0m\n\u001b[0m\u001b[1;32m     31\u001b[0m \u001b[0;34m\u001b[0m\u001b[0m\n\u001b[1;32m     32\u001b[0m \u001b[0;31m# Verificación con suma normal\u001b[0m\u001b[0;34m\u001b[0m\u001b[0;34m\u001b[0m\u001b[0m\n",
            "\u001b[0;32m<ipython-input-3-8d6be874a4f3>\u001b[0m in \u001b[0;36msuma_bloques\u001b[0;34m(A, B, block_size)\u001b[0m\n\u001b[1;32m      1\u001b[0m \u001b[0;32mdef\u001b[0m \u001b[0msuma_bloques\u001b[0m\u001b[0;34m(\u001b[0m\u001b[0mA\u001b[0m\u001b[0;34m,\u001b[0m \u001b[0mB\u001b[0m\u001b[0;34m,\u001b[0m \u001b[0mblock_size\u001b[0m\u001b[0;34m)\u001b[0m\u001b[0;34m:\u001b[0m\u001b[0;34m\u001b[0m\u001b[0;34m\u001b[0m\u001b[0m\n\u001b[1;32m      2\u001b[0m     \u001b[0;34m\"\"\"Suma matrices A y B por bloques de tamaño block_size.\"\"\"\u001b[0m\u001b[0;34m\u001b[0m\u001b[0;34m\u001b[0m\u001b[0m\n\u001b[0;32m----> 3\u001b[0;31m     \u001b[0mm\u001b[0m\u001b[0;34m,\u001b[0m \u001b[0mn\u001b[0m \u001b[0;34m=\u001b[0m \u001b[0mA\u001b[0m\u001b[0;34m.\u001b[0m\u001b[0mshape\u001b[0m  \u001b[0;31m# Dimensiones de la matriz A\u001b[0m\u001b[0;34m\u001b[0m\u001b[0;34m\u001b[0m\u001b[0m\n\u001b[0m\u001b[1;32m      4\u001b[0m     \u001b[0mm_B\u001b[0m\u001b[0;34m,\u001b[0m \u001b[0mp\u001b[0m \u001b[0;34m=\u001b[0m \u001b[0mB\u001b[0m\u001b[0;34m.\u001b[0m\u001b[0mshape\u001b[0m  \u001b[0;31m# Dimensiones de la matriz B\u001b[0m\u001b[0;34m\u001b[0m\u001b[0;34m\u001b[0m\u001b[0m\n\u001b[1;32m      5\u001b[0m     \u001b[0;32massert\u001b[0m \u001b[0;34m(\u001b[0m\u001b[0mm\u001b[0m \u001b[0;34m==\u001b[0m \u001b[0mm_B\u001b[0m \u001b[0;32mand\u001b[0m \u001b[0mn\u001b[0m \u001b[0;34m==\u001b[0m \u001b[0mp\u001b[0m\u001b[0;34m)\u001b[0m\u001b[0;34m,\u001b[0m \u001b[0;34m\"Las matrices deben tener las mismas dimensiones\"\u001b[0m\u001b[0;34m\u001b[0m\u001b[0;34m\u001b[0m\u001b[0m\n",
            "\u001b[0;31mAttributeError\u001b[0m: 'list' object has no attribute 'shape'"
          ]
        }
      ]
    },
    {
      "cell_type": "markdown",
      "source": [
        "# **Ejercicio 1.3**"
      ],
      "metadata": {
        "id": "Em2VnStFcXo0"
      }
    },
    {
      "cell_type": "code",
      "source": [
        "def producto_punto_bloques(v1, v2, block_size):\n",
        "    \"\"\"\n",
        "    Calcula el producto punto de dos vectores en R^n por bloques.\n",
        "\n",
        "    Parámetros:\n",
        "    -----------\n",
        "    v1, v2 : numpy.ndarray\n",
        "        Vectores unidimensionales de igual tamaño.\n",
        "    block_size : int\n",
        "        Tamaño del bloque para dividir los cálculos.\n",
        "\n",
        "    Retorna:\n",
        "    --------\n",
        "    float\n",
        "        Producto punto de los vectores.\n",
        "    \"\"\"\n",
        "    if len(v1) != len(v2):\n",
        "        raise ValueError(\"Los vectores deben tener la misma longitud.\")\n",
        "    if block_size <= 0 or block_size > len(v1):\n",
        "        raise ValueError(\"El tamaño del bloque debe ser mayor que 0 y menor o igual que la longitud de los vectores.\")\n",
        "    n = len(v1)\n",
        "    resultado = 0.0\n",
        "\n",
        "    for i in range(0, n, block_size):\n",
        "        resultado += np.dot(v1[i:i+block_size], v2[i:i+block_size])  # Producto parcial por bloque\n",
        "\n",
        "    return resultado\n",
        "\n",
        "# Vectores de tamaño grande para que tenga sentido computacional\n",
        "n = 100\n",
        "block_size = 10\n",
        "v1 = np.random.rand(n)\n",
        "v2 = np.random.rand(n)\n",
        "\n",
        "# Cálculo del producto punto\n",
        "resultado = producto_punto_bloques(v1, v2, block_size)\n",
        "print(f\"Producto punto por bloques: {resultado:.6f}\")"
      ],
      "metadata": {
        "colab": {
          "base_uri": "https://localhost:8080/"
        },
        "id": "QCy-CEylcVQB",
        "outputId": "1fdc9280-9b18-4add-f9a9-7266ddb56a10"
      },
      "execution_count": null,
      "outputs": [
        {
          "output_type": "stream",
          "name": "stdout",
          "text": [
            "Producto punto por bloques: 26.912687\n"
          ]
        }
      ]
    },
    {
      "cell_type": "markdown",
      "source": [
        "# **Ejercicio 1.4**"
      ],
      "metadata": {
        "id": "bQ-rNX-jcxc-"
      }
    },
    {
      "cell_type": "code",
      "source": [
        "def transpuesta_conjugada(Mat):\n",
        "    \"\"\"\n",
        "    Calcula la transpuesta conjugada de una matriz compleja.\n",
        "\n",
        "    La transpuesta conjugada de una matriz se obtiene tomando la transpuesta de la matriz\n",
        "    y luego conjugando cada uno de sus elementos (es decir, cambiando el signo de la parte imaginaria).\n",
        "\n",
        "    Parámetros:\n",
        "    -----------\n",
        "    Mat : numpy.ndarray\n",
        "        Matriz compleja (bidimensional).\n",
        "\n",
        "    Retorna:\n",
        "    --------\n",
        "    numpy.ndarray\n",
        "        Transpuesta conjugada de la matriz.\n",
        "\n",
        "    Lanza:\n",
        "    ------\n",
        "    ValueError\n",
        "        Si la entrada no es una matriz bidimensional.\n",
        "    \"\"\"\n",
        "    # Validación de la entrada\n",
        "    if not isinstance(Mat, np.ndarray) or Mat.ndim != 2:\n",
        "        raise ValueError(\"La entrada debe ser una matriz bidimensional (numpy.ndarray).\")\n",
        "\n",
        "    # Calcular la transpuesta conjugada\n",
        "    return np.conjugate(Mat.T)\n",
        "\n",
        "# Ejemplo de uso\n",
        "A = np.array([[1 + 2j, 2 - 1j], [-3 + 4j, 0 + 5j]])\n",
        "\n",
        "# Cálculo de la transpuesta conjugada\n",
        "resultado = transpuesta_conjugada(A)\n",
        "print(\"Matriz original:\\n\", A)\n",
        "print(\"Transpuesta conjugada:\\n\", resultado)\n",
        "\n",
        "B = np.array([[1, 2], [3, 4]]) # Para tener un ejemplo en los reales simplemente será la transpuesta\n",
        "print(\"Transpuesta conjugada de B:\\n\", transpuesta_conjugada(B))"
      ],
      "metadata": {
        "colab": {
          "base_uri": "https://localhost:8080/"
        },
        "id": "UFpF87ELczah",
        "outputId": "1f6e4a81-6888-4821-d292-5cd05719297d"
      },
      "execution_count": null,
      "outputs": [
        {
          "output_type": "stream",
          "name": "stdout",
          "text": [
            "Matriz original:\n",
            " [[ 1.+2.j  2.-1.j]\n",
            " [-3.+4.j  0.+5.j]]\n",
            "Transpuesta conjugada:\n",
            " [[ 1.-2.j -3.-4.j]\n",
            " [ 2.+1.j  0.-5.j]]\n",
            "Transpuesta conjugada de B:\n",
            " [[1 3]\n",
            " [2 4]]\n"
          ]
        }
      ]
    },
    {
      "cell_type": "markdown",
      "source": [
        "# **Ejercicio 1.5**"
      ],
      "metadata": {
        "id": "eIKnYyp_c9jC"
      }
    },
    {
      "cell_type": "code",
      "source": [
        "def potencia_matriz_bloques(A, exp, block_size):\n",
        "    \"\"\"\n",
        "    Eleva una matriz cuadrada a una potencia dada usando multiplicación por bloques.\n",
        "\n",
        "    Parámetros:\n",
        "    -----------\n",
        "    A : numpy.ndarray\n",
        "        Matriz cuadrada de tamaño (n, n).\n",
        "    exp : int\n",
        "        Exponente al que se elevará la matriz.\n",
        "    block_size : int\n",
        "        Tamaño de los bloques.\n",
        "\n",
        "    RWetorna:\n",
        "    --------\n",
        "    numpy.ndarray\n",
        "        Matriz elevada a la potencia dada.\n",
        "    \"\"\"\n",
        "    # Validación de entradas\n",
        "    if A.shape[0] != A.shape[1]:\n",
        "        raise ValueError(\"La matriz debe ser cuadrada.\")\n",
        "    if exp < 0:\n",
        "        raise ValueError(\"El exponente debe ser un entero no negativo.\")\n",
        "    if block_size <= 0 or block_size > A.shape[0]:\n",
        "        raise ValueError(\"El tamaño del bloque debe ser mayor que 0 y menor o igual que el tamaño de la matriz.\")\n",
        "\n",
        "    n = A.shape[0]\n",
        "    resultado = np.eye(n)  # Matriz identidad\n",
        "    base = A.copy()\n",
        "\n",
        "    # Casos especiales\n",
        "    if exp == 0:\n",
        "        return resultado  # Matriz identidad\n",
        "    if exp == 1:\n",
        "        return base  # Matriz original\n",
        "\n",
        "    # Algoritmo de exponenciación rápida\n",
        "    while exp > 0:\n",
        "        if exp % 2 == 1:\n",
        "            resultado = multiplicacion_bloques(resultado, base, block_size)  # Multiplicación por bloques\n",
        "        base = multiplicacion_bloques(base, base, block_size)\n",
        "        exp //= 2\n",
        "\n",
        "    return resultado\n",
        "\n",
        "\n",
        "# Función de multiplicación por bloques (usada en el ejercicio 1)\n",
        "def multiplicacion_bloques(A, B, block_size):\n",
        "    n = A.shape[0]\n",
        "    C = np.zeros((n, n))\n",
        "\n",
        "    for i in range(0, n, block_size):\n",
        "        for j in range(0, n, block_size):\n",
        "            for k in range(0, n, block_size):\n",
        "                C[i:i+block_size, j:j+block_size] += np.dot(A[i:i+block_size, k:k+block_size],\n",
        "                                                             B[k:k+block_size, j:j+block_size])\n",
        "    return C\n",
        "\n",
        "# Ejemplo de uso\n",
        "n = 50\n",
        "block_size = 10\n",
        "A = np.random.rand(n, n)\n",
        "exp = 3\n",
        "\n",
        "# Cálculo de la potencia\n",
        "resultado = potencia_matriz_bloques(A, exp, block_size)\n",
        "print(\"Matriz A elevada a la potencia\", exp, \":\\n\", resultado)\n",
        "\n",
        "#Un ejemplo más simple para la validación\n",
        "A = np.array([[2, 0], [0, 3]])\n",
        "exp = 3\n",
        "resultado = potencia_matriz_bloques(A, exp, block_size=1)\n",
        "print(resultado)\n",
        "\n"
      ],
      "metadata": {
        "colab": {
          "base_uri": "https://localhost:8080/"
        },
        "id": "LEfWOe22c_En",
        "outputId": "98fade27-93f1-4684-98d6-6c080bbfc649"
      },
      "execution_count": null,
      "outputs": [
        {
          "output_type": "stream",
          "name": "stdout",
          "text": [
            "Matriz A elevada a la potencia 3 :\n",
            " [[349.1692617  290.10713762 387.34046461 ... 340.68930471 362.3938558\n",
            "  366.64840308]\n",
            " [304.39685855 252.38416366 334.49917477 ... 295.99019247 315.24524126\n",
            "  319.26156082]\n",
            " [298.57204008 248.13627961 330.88772445 ... 291.22295782 308.52489449\n",
            "  314.56889553]\n",
            " ...\n",
            " [357.79513013 297.81050554 396.10818812 ... 348.58275784 371.28300053\n",
            "  377.4520453 ]\n",
            " [343.5390109  285.4792009  379.84806613 ... 333.18226034 355.79836052\n",
            "  363.01271421]\n",
            " [327.7707457  269.89920578 361.78529104 ... 320.11088083 339.15530309\n",
            "  344.24136937]]\n",
            "[[ 8.  0.]\n",
            " [ 0. 27.]]\n"
          ]
        }
      ]
    },
    {
      "cell_type": "markdown",
      "source": [
        "# **Ejercicio 1.6**"
      ],
      "metadata": {
        "id": "b0-7DTQ5dQet"
      }
    },
    {
      "cell_type": "code",
      "source": [
        "def producto_cruz(v1, v2):\n",
        "    \"\"\"\n",
        "    Calcula el producto cruz entre dos vectores tridimensionales.\n",
        "\n",
        "    Parámetros:\n",
        "    -----------\n",
        "    v1, v2 : numpy.ndarray\n",
        "        Vectores tridimensionales.\n",
        "\n",
        "    Retorna:\n",
        "    --------\n",
        "    numpy.ndarray\n",
        "        Vector resultante del producto cruz.\n",
        "    \"\"\"\n",
        "    return np.cross(v1, v2)\n",
        "\n",
        "# Vectores tridimensionales de prueba\n",
        "v1 = np.array([1, 2, 3])\n",
        "v2 = np.array([4, 5, 6])\n",
        "\n",
        "# Cálculo del producto cruz\n",
        "resultado = producto_cruz(v1, v2)\n",
        "print(\"Producto cruz:\", resultado)\n"
      ],
      "metadata": {
        "colab": {
          "base_uri": "https://localhost:8080/"
        },
        "id": "hxEQ3EuudRx2",
        "outputId": "1cf03527-4f6b-48a2-859c-880ce36f66a5"
      },
      "execution_count": null,
      "outputs": [
        {
          "output_type": "stream",
          "name": "stdout",
          "text": [
            "Producto cruz: [-3  6 -3]\n"
          ]
        }
      ]
    },
    {
      "cell_type": "markdown",
      "source": [
        "# **Ejercicio 1.7**"
      ],
      "metadata": {
        "id": "KR0ODZZQg-r4"
      }
    },
    {
      "cell_type": "markdown",
      "source": [
        "## Rotación de un vector en 2D\n",
        "\n",
        "**Paso 1: Vector original y ángulo de rotación**\n",
        "\n",
        "El vector original es:\n",
        "\n",
        "$$\n",
        "v = \\begin{bmatrix} 1 \\\\ 0 \\end{bmatrix}\n",
        "$$\n",
        "\n",
        "y el ángulo de rotación es:\n",
        "\n",
        "\n",
        "$$45^\\circ$$\n",
        "\n",
        "---\n",
        "\n",
        "**Paso 2: Conversión a radianes**\n",
        "\n",
        "Para realizar el cálculo, primero convertimos el ángulo de 45° a radianes:\n",
        "\n",
        "$$\n",
        "45^\\circ = \\frac{45 \\pi}{180} = 0.7854 \\text{ rad}\n",
        "$$\n",
        "\n",
        "---\n",
        "\n",
        "**Paso 3: Cálculo de las componentes trigonométricas**\n",
        "\n",
        "Calculamos:\n",
        "\n",
        "$$\n",
        "\\cos(0.7854) \\approx 0.7071, \\quad \\sin(0.7854) \\approx 0.7071\n",
        "$$\n",
        "\n",
        "---\n",
        "\n",
        "**Paso 4: Matriz de rotación**\n",
        "\n",
        "La matriz de rotación para un ángulo $\\theta = 0.7854$ rad es:\n",
        "\n",
        "$$\n",
        "R(0.7854) = \\begin{bmatrix} 0.7071 & -0.7071 \\\\ 0.7071 & 0.7071 \\end{bmatrix}\n",
        "$$\n",
        "\n",
        "---\n",
        "\n",
        "**Paso 5: Multiplicación matricial**\n",
        "\n",
        "Multiplicamos la matriz de rotación por el vector:\n",
        "\n",
        "$$\n",
        "R(0.7854) \\cdot v =\n",
        "\\begin{bmatrix} 0.7071 & -0.7071 \\\\ 0.7071 & 0.7071 \\end{bmatrix}\n",
        "\\begin{bmatrix} 1 \\\\ 0 \\end{bmatrix}\n",
        "=\n",
        "\\begin{bmatrix} 0.7071 \\\\ 0.7071 \\end{bmatrix}\n",
        "$$\n",
        "\n",
        "---\n",
        "\n",
        "**Interpretación del resultado**\n",
        "\n",
        "El vector rotado es:\n",
        "\n",
        "$$\n",
        "v' = \\begin{bmatrix} 0.7071 \\\\ 0.7071 \\end{bmatrix}\n",
        "$$\n",
        "\n",
        "Esto indica que el vector original $v = (1,0)$ se ha rotado 45° en sentido antihorario, situándose en la dirección $(0.7071, 0.7071)$.\n"
      ],
      "metadata": {
        "id": "Ah0SPfUGnDNi"
      }
    },
    {
      "cell_type": "code",
      "source": [
        "from IPython.display import display, Math, Latex\n",
        "# ----------------------------------------------\n",
        "# Paso 6: ver la gráfiquini\n",
        "# ----------------------------------------------\n",
        "plt.figure(figsize=(7, 7))\n",
        "plt.axhline(0, color='gray', lw=0.5)\n",
        "plt.axvline(0, color='gray', lw=0.5)\n",
        "\n",
        "# Vectores\n",
        "plt.quiver(0, 0, 1, 0, angles='xy', scale_units='xy', scale=1, color='red', width=0.015, label='Original')\n",
        "plt.quiver(0, 0, 0.7071, 0.7071, angles='xy', scale_units='xy', scale=1, color='blue', width=0.015, label='Rotado')\n",
        "\n",
        "# Líneas de componentes\n",
        "plt.plot([0.7071, 0.7071], [0, 0.7071], 'k--', lw=0.8, alpha=0.5)\n",
        "plt.plot([0, 0.7071], [0.7071, 0.7071], 'k--', lw=0.8, alpha=0.5)\n",
        "\n",
        "# Añadir etiquetas\n",
        "plt.text(0.5, 0.05, r'$v = (1, 0)$', color='red', fontsize=12)\n",
        "plt.text(0.3, 0.5, r'$v\\' = \\left(\\frac{\\sqrt{2}}{2}, \\frac{\\sqrt{2}}{2}\\right)$', color='blue', fontsize=12)\n",
        "\n",
        "# Configuración final\n",
        "plt.title(\"Rotación de 45° en 2D\", fontsize=14)\n",
        "plt.xlim(-0.5, 1.2)\n",
        "plt.ylim(-0.5, 1.2)\n",
        "plt.grid(linestyle='dotted', alpha=0.6)\n",
        "plt.legend(loc='upper right')\n",
        "plt.gca().set_aspect('equal')\n",
        "plt.show()"
      ],
      "metadata": {
        "colab": {
          "base_uri": "https://localhost:8080/",
          "height": 622
        },
        "id": "Pr_Cyna8gg1x",
        "outputId": "7e39b8e0-9c62-497f-8c10-dad9c1ae0f67"
      },
      "execution_count": null,
      "outputs": [
        {
          "output_type": "display_data",
          "data": {
            "text/plain": [
              "<Figure size 700x700 with 1 Axes>"
            ],
            "image/png": "[encoded data removed]"
          },
          "metadata": {}
        }
      ]
    },
    {
      "cell_type": "code",
      "source": [
        "import numpy as np\n",
        "\n",
        "def rotacion_2D(vector, angulo):\n",
        "    \"\"\"\n",
        "    Rota un vector bidimensional por un ángulo dado.\n",
        "\n",
        "    Parámetros:\n",
        "    -----------\n",
        "    vector : numpy.ndarray\n",
        "        Vector bidimensional (x, y).\n",
        "    angulo : float\n",
        "        Ángulo de rotación en grados.\n",
        "\n",
        "    Retorna:\n",
        "    --------\n",
        "    numpy.ndarray\n",
        "        Vector rotado.\n",
        "    \"\"\"\n",
        "    theta = np.radians(angulo)  # Convertir grados a radianes\n",
        "    R = np.array([[np.cos(theta), -np.sin(theta)],\n",
        "                  [np.sin(theta), np.cos(theta)]])  # Matriz de rotación\n",
        "\n",
        "    return np.dot(R, vector)  # Aplicar transformación\n",
        "\n",
        "# Ejemplo de uso\n",
        "v = np.array([1, 0])  # Vector inicial en el eje X\n",
        "angulo = 45  # Rotación de 45 grados\n",
        "\n",
        "v_rotado = rotacion_2D(v, angulo)\n",
        "print(\"Vector original:\", v)\n",
        "print(f\"Vector rotado {angulo}°:\", v_rotado)\n"
      ],
      "metadata": {
        "colab": {
          "base_uri": "https://localhost:8080/"
        },
        "id": "V4nRmjqUhBWX",
        "outputId": "b2356b02-e795-4a96-ea0f-8bbf359aa2c8"
      },
      "execution_count": null,
      "outputs": [
        {
          "output_type": "stream",
          "name": "stdout",
          "text": [
            "Vector original: [1 0]\n",
            "Vector rotado 45°: [0.70710678 0.70710678]\n"
          ]
        }
      ]
    },
    {
      "cell_type": "markdown",
      "source": [
        "#**Ejercicio 1.8**"
      ],
      "metadata": {
        "id": "CtwDL9Nqz2ha"
      }
    },
    {
      "cell_type": "code",
      "source": [
        "import numpy as np\n",
        "\n",
        "def rotacion_3D(vector, angulo, tipo):\n",
        "    \"\"\"\n",
        "    Realiza una rotación 3D de un vector alrededor de un eje específico.\n",
        "\n",
        "    Parámetros:\n",
        "    vector (np.array): Vector en el espacio 3D a rotar.\n",
        "    angulo (float): Ángulo de rotación en grados.\n",
        "    tipo (str): Eje de rotación (\"x\", \"y\" o \"z\").\n",
        "\n",
        "    Retorna:\n",
        "    np.array: Vector rotado.\n",
        "    \"\"\"\n",
        "    theta = np.radians(angulo)  # Convertir grados a radianes\n",
        "\n",
        "    if tipo == \"z\":\n",
        "        R = np.array([[np.cos(theta), -np.sin(theta), 0],\n",
        "                      [np.sin(theta), np.cos(theta), 0],\n",
        "                      [0, 0, 1]])  # Matriz de rotación en Z\n",
        "    elif tipo == \"y\":\n",
        "        R = np.array([[np.cos(theta), 0, np.sin(theta)],\n",
        "                      [0, 1, 0],\n",
        "                      [-np.sin(theta), 0, np.cos(theta)]])  # Matriz de rotación en Y\n",
        "    elif tipo == \"x\":\n",
        "        R = np.array([[1, 0, 0],\n",
        "                      [0, np.cos(theta), -np.sin(theta)],\n",
        "                      [0, np.sin(theta), np.cos(theta)]])  # Matriz de rotación en X\n",
        "\n",
        "    return np.dot(R, vector)  # Aplicar la rotación al vector\n",
        "\n",
        "\n",
        "# Ejemplo de uso\n",
        "v = np.array([1, 0, 0])  # Vector inicial en el eje X\n",
        "angulo = 45  # Rotación de 45 grados\n",
        "eje = \"z\"  # Eje de rotación\n",
        "\n",
        "v_rotado = rotacion_3D(v, angulo, eje)\n",
        "print(\"Vector original:\", v)\n",
        "print(f\"Vector rotado {angulo}° alrededor del eje {eje}:\", v_rotado)"
      ],
      "metadata": {
        "colab": {
          "base_uri": "https://localhost:8080/"
        },
        "id": "LK9sYEc_nuEO",
        "outputId": "4c028b9c-1372-439d-ef7f-72921d8611b9"
      },
      "execution_count": null,
      "outputs": [
        {
          "output_type": "stream",
          "name": "stdout",
          "text": [
            "Vector original: [1 0 0]\n",
            "Vector rotado 45° alrededor del eje z: [0.70710678 0.70710678 0.        ]\n"
          ]
        }
      ]
    },
    {
      "cell_type": "markdown",
      "source": [
        "# **Ejercicio 1.9**"
      ],
      "metadata": {
        "id": "LFJnbur5Eatl"
      }
    },
    {
      "cell_type": "code",
      "source": [
        "def norma1(matriz):\n",
        "    \"\"\"\n",
        "    Calcula la norma 1 de una matriz.\n",
        "\n",
        "    La norma 1 de una matriz es el máximo de las sumas absolutas de sus columnas.\n",
        "\n",
        "    Parámetros:\n",
        "    matriz (list of list): Matriz de entrada.\n",
        "\n",
        "    Retorna:\n",
        "    float: Valor de la norma 1.\n",
        "    \"\"\"\n",
        "    m = len(matriz)\n",
        "    n = len(matriz[0])\n",
        "    c = np.zeros_like(matriz[0])\n",
        "\n",
        "    for j in range(n):\n",
        "        for i in range(m):\n",
        "            c[j] += abs(matriz[i][j])\n",
        "\n",
        "    return max(c)\n",
        "\n",
        "\n",
        "# Ejemplo de uso\n",
        "A = [[2, 3, -4],\n",
        "     [0, -4, 2]]\n",
        "\n",
        "print(\"La norma 1 de la matriz A:\\n\", A)\n",
        "print(\"Es:\", norma1(A))"
      ],
      "metadata": {
        "colab": {
          "base_uri": "https://localhost:8080/"
        },
        "id": "xnbhgmzHn2hM",
        "outputId": "e8577877-01cb-485c-f84a-bb833f0809d4"
      },
      "execution_count": null,
      "outputs": [
        {
          "output_type": "stream",
          "name": "stdout",
          "text": [
            "La norma 1 de la matriz A:\n",
            " [[2, 3, -4], [0, -4, 2]]\n",
            "Es: 7\n"
          ]
        }
      ]
    },
    {
      "cell_type": "markdown",
      "source": [
        "# **EJERCICIO 1.10**"
      ],
      "metadata": {
        "id": "OOiYO0bHnk_B"
      }
    },
    {
      "cell_type": "code",
      "source": [
        "def norma_infinito(matriz):\n",
        "    return max(sum(abs(matriz[i][j]) for j in range(len(matriz[0]))) for i in range(len(matriz)))\n",
        "\n",
        "# Ejemplo de uso\n",
        "A = [[3, -2, 5], [1, -4, 2], [-2, 3, -1]]\n",
        "print(\"Norma infinito de A:\", norma_infinito(A))"
      ],
      "metadata": {
        "id": "I9torwL-n9XR",
        "colab": {
          "base_uri": "https://localhost:8080/"
        },
        "outputId": "f75e9d16-5c72-4577-addc-7b99a3efdfdb"
      },
      "execution_count": null,
      "outputs": [
        {
          "output_type": "stream",
          "name": "stdout",
          "text": [
            "Norma infinito de A: 10\n"
          ]
        }
      ]
    },
    {
      "cell_type": "markdown",
      "source": [
        "# **Ejercicio 1.11**"
      ],
      "metadata": {
        "id": "vV2dbBUU9Ha9"
      }
    },
    {
      "cell_type": "code",
      "source": [
        "import numpy as np\n",
        "\n",
        "# Función para calcular la norma 2 de una matriz según la fórmula dada\n",
        "def norma_2(A):\n",
        "    return np.sqrt(np.sum(A**2, axis=1))\n",
        "\n",
        "# Ejemplo de uso\n",
        "A = np.array([[3, -2, 5], [1, -4, 2], [-2, 3, -1]])\n",
        "resultado = norma_2(A)\n",
        "print(\"Norma 2 de A por filas:\", resultado)"
      ],
      "metadata": {
        "colab": {
          "base_uri": "https://localhost:8080/"
        },
        "id": "0j6aMf5z9Sum",
        "outputId": "1453f6a6-b696-4ee2-b29a-c279b0184699"
      },
      "execution_count": null,
      "outputs": [
        {
          "output_type": "stream",
          "name": "stdout",
          "text": [
            "Norma 2 de A por filas: [6.164414   4.58257569 3.74165739]\n"
          ]
        }
      ]
    },
    {
      "cell_type": "markdown",
      "source": [
        "# **Ejercicio 2.1**"
      ],
      "metadata": {
        "id": "1SyfOlAyN4bo"
      }
    },
    {
      "cell_type": "code",
      "source": [
        "import numpy as np\n",
        "\n",
        "def SubMat(Mat, ren, col):\n",
        "    \"\"\"\n",
        "    Obtiene una submatriz eliminando un renglón y una columna específicos.\n",
        "\n",
        "    Parámetros:\n",
        "    Mat (np.array): Matriz original.\n",
        "    ren (int): Índice del renglón a eliminar.\n",
        "    col (int): Índice de la columna a eliminar.\n",
        "\n",
        "    Retorna:\n",
        "    np.array: Submatriz resultante.\n",
        "    \"\"\"\n",
        "    M1 = np.copy(Mat)\n",
        "    M1 = np.delete(M1, ren, axis=0)\n",
        "    M1 = np.delete(M1, col, axis=1)\n",
        "    return M1\n",
        "\n",
        "\n",
        "def det(matriz):\n",
        "    \"\"\"\n",
        "    Calcula el determinante de una matriz cuadrada de manera recursiva.\n",
        "\n",
        "    Parámetros:\n",
        "    matriz (np.array): Matriz cuadrada.\n",
        "\n",
        "    Retorna:\n",
        "    float: Determinante de la matriz.\n",
        "    \"\"\"\n",
        "    # Caso base: matriz 2x2\n",
        "    if matriz.shape[0] == 2 and matriz.shape[1] == 2:\n",
        "        return matriz[0][0] * matriz[1][1] - (matriz[0][1] * matriz[1][0])\n",
        "\n",
        "    else:\n",
        "        deter = 0.0\n",
        "        for col in range(matriz.shape[0]):\n",
        "            deter += ((-1) ** col) * matriz[0][col] * det(SubMat(matriz, 0, col))\n",
        "        return deter\n",
        "\n",
        "\n",
        "def cramer(matriz, b):\n",
        "    \"\"\"\n",
        "    Resuelve un sistema de ecuaciones lineales usando el método de Cramer.\n",
        "\n",
        "    Parámetros:\n",
        "    matriz (np.array): Matriz de coeficientes.\n",
        "    b (np.array): Vector de términos independientes.\n",
        "\n",
        "    Retorna:\n",
        "    np.array: Vector solución.\n",
        "    \"\"\"\n",
        "    det_A = det(matriz)\n",
        "\n",
        "    if det_A == 0 or (matriz.shape[0] != len(matriz)):\n",
        "        return \"No se puede resolver con Crammer, el determinante de la matriz es 0 o la matriz no es cuadrada\"\n",
        "    else:\n",
        "        x = np.zeros_like(b)\n",
        "        for j in range(matriz.shape[0]):\n",
        "            aux = np.copy(matriz)\n",
        "            aux[:, j] = b\n",
        "            x[j] = det(aux) / det_A\n",
        "        return x\n",
        "\n",
        "\n",
        "# Ejemplo de uso\n",
        "A = np.array([[1, 1, 1],\n",
        "              [1, -1, 2],\n",
        "              [3, 1, -1]])\n",
        "b = [15, 10, 25]\n",
        "\n",
        "\n",
        "#Calculamos con inversa y paquetería\n",
        "from numpy import linalg as LA\n",
        "\n",
        "def Transpuesta(Mat):\n",
        "    \"\"\"\n",
        "    Calcula la transpuesta de una matriz.\n",
        "\n",
        "    Parámetros:\n",
        "    Mat (np.array): Matriz de entrada.\n",
        "\n",
        "    Retorna:\n",
        "    np.array: Matriz transpuesta.\n",
        "    \"\"\"\n",
        "    return np.transpose(Mat)\n",
        "\n",
        "\n",
        "def Cofactores(Mat):\n",
        "    \"\"\"\n",
        "    Calcula la matriz de cofactores de una matriz cuadrada.\n",
        "\n",
        "    Parámetros:\n",
        "    Mat (np.array): Matriz cuadrada.\n",
        "\n",
        "    Retorna:\n",
        "    np.array: Matriz de cofactores.\n",
        "    \"\"\"\n",
        "    Cofa = np.zeros_like(Mat, dtype=float)\n",
        "    for ren in range(Mat.shape[0]):\n",
        "        for col in range(Mat.shape[1]):\n",
        "            Cofa[ren, col] = ((-1) ** (ren + col)) * det(SubMat(Mat, ren, col))\n",
        "    return Cofa\n",
        "\n",
        "\n",
        "def Inv(Mat):\n",
        "    \"\"\"\n",
        "    Calcula la inversa de una matriz cuadrada.\n",
        "\n",
        "    Parámetros:\n",
        "    Mat (np.array): Matriz cuadrada.\n",
        "\n",
        "    Retorna:\n",
        "    np.array: Matriz inversa.\n",
        "\n",
        "    Lanza:\n",
        "    ValueError: Si la matriz es singular (determinante = 0).\n",
        "    \"\"\"\n",
        "    deter = det(Mat)\n",
        "    if deter == 0:\n",
        "        raise ValueError(\"La matriz es singular y no tiene inversa.\")\n",
        "    Cofac = Cofactores(Mat)\n",
        "    Cofac = Transpuesta(Cofac)\n",
        "    Inversa = (1 / deter) * Cofac\n",
        "    return Inversa\n",
        "\n",
        "\n",
        "def SolveInv(Mat, vec):\n",
        "    \"\"\"\n",
        "    Resuelve un sistema de ecuaciones lineales usando la inversa de la matriz.\n",
        "\n",
        "    Parámetros:\n",
        "    Mat (np.array): Matriz de coeficientes.\n",
        "    vec (np.array): Vector de términos independientes.\n",
        "\n",
        "    Retorna:\n",
        "    np.array: Vector solución.\n",
        "    \"\"\"\n",
        "    InvMat = Inv(Mat)\n",
        "    Solucion = InvMat @ vec\n",
        "    return Solucion\n",
        "\n",
        "\n",
        "# Ejemplo de uso\n",
        "A = np.array([[1, 1, 1],\n",
        "              [1, -1, 2],\n",
        "              [3, 1, -1]])\n",
        "b = [15, 10, 25]\n",
        "\n",
        "print(\"Solución usando inversa:\", SolveInv(A, b))\n",
        "print(\"Solución usando paquetería:\", LA.solve(A, b))\n",
        "\n",
        "print(\"El vector solución 'x' del sistema es:\", cramer(A, b))"
      ],
      "metadata": {
        "colab": {
          "base_uri": "https://localhost:8080/"
        },
        "id": "Mngcigk5n-73",
        "outputId": "867f82a5-7a7b-4f8b-bdba-f92dd1d07134"
      },
      "execution_count": null,
      "outputs": [
        {
          "output_type": "stream",
          "name": "stdout",
          "text": [
            "Solución usando inversa: [8. 4. 3.]\n",
            "Solución usando paquetería: [8. 4. 3.]\n",
            "El vector solución 'x' del sistema es: [8 4 3]\n"
          ]
        }
      ]
    },
    {
      "cell_type": "code",
      "source": [
        "#Ejemplo2\n",
        "A = np.array([[1,1,1],\n",
        "              [1,-1,2],\n",
        "              [3,1,-1]])\n",
        "bp = [10,15,25]\n",
        "\n",
        "print(\"\\nEl vector solución 'x' del sistema2  es: \",cramer(A,bp))\n",
        "print(\"solucion inversa:\",SolveInv(A,bp))\n",
        "print(\"solucion paqueteria:\",LA.solve(A,bp))\n"
      ],
      "metadata": {
        "colab": {
          "base_uri": "https://localhost:8080/"
        },
        "id": "A_VOAXHiN9s1",
        "outputId": "a177e371-2870-46bd-dd97-8a03bbe521f2"
      },
      "execution_count": null,
      "outputs": [
        {
          "output_type": "stream",
          "name": "stdout",
          "text": [
            "\n",
            "El vector solución 'x' del sistema2  es:  [ 9 -1  2]\n",
            "solucion inversa: [ 9.5 -1.5  2. ]\n",
            "solucion paqueteria: [ 9.5 -1.5  2. ]\n"
          ]
        }
      ]
    },
    {
      "cell_type": "markdown",
      "source": [
        "\n",
        "# **Ejercicio 2.2**"
      ],
      "metadata": {
        "id": "_4pyYWdK9fZK"
      }
    },
    {
      "cell_type": "markdown",
      "source": [
        "**VERSION 1**"
      ],
      "metadata": {
        "id": "isHpcxj89n2k"
      }
    },
    {
      "cell_type": "code",
      "source": [
        "import numpy as np\n",
        "from numpy import linalg as LA\n",
        "from scipy.linalg import lu\n",
        "import matplotlib.pyplot as plt\n",
        "import time\n",
        "\n",
        "def crear_matriz_tribanda(n):\n",
        "    DP = 2 * np.ones(n)\n",
        "    DS = -1 * np.ones(n-1)\n",
        "    DI = -1 * np.ones(n-1)\n",
        "    return np.diag(DP) + np.diag(DS, k=1) + np.diag(DI, k=-1), DP, DS, DI\n",
        "\n",
        "def determinante(A):\n",
        "    return LA.det(A)\n",
        "\n",
        "def inversa(A):\n",
        "    return LA.inv(A)\n",
        "\n",
        "def sustitucion_atras(U, b):\n",
        "    n = len(b)\n",
        "    x = np.zeros(n)\n",
        "    for i in range(n-1, -1, -1):\n",
        "        x[i] = (b[i] - np.dot(U[i, i+1:], x[i+1:])) / U[i, i]\n",
        "    return x\n",
        "\n",
        "def sustitucion_adelante(L, b):\n",
        "    n = len(b)\n",
        "    x = np.zeros(n)\n",
        "    for i in range(n):\n",
        "        x[i] = (b[i] - np.dot(L[i, :i], x[:i])) / L[i, i]\n",
        "    return x\n",
        "\n",
        "def solver_diagonal(D, b):\n",
        "    return b / np.diag(D)\n",
        "\n",
        "def Thomas(DP, DS, DI, b):\n",
        "    n = len(DP)\n",
        "    x = np.zeros(n)\n",
        "    DP, DS, DI, b = DP.copy(), DS.copy(), DI.copy(), b.copy()\n",
        "\n",
        "    for i in range(1, n):\n",
        "        factor = DI[i-1] / DP[i-1]\n",
        "        DP[i] -= factor * DS[i-1]\n",
        "        b[i] -= factor * b[i-1]\n",
        "\n",
        "    x[-1] = b[-1] / DP[-1]\n",
        "    for i in range(n-2, -1, -1):\n",
        "        x[i] = (b[i] - DS[i] * x[i+1]) / DP[i]\n",
        "\n",
        "    return x\n",
        "\n",
        "tamanos = list(range(10, 110, 10))\n",
        "tiempos = {\"Determinante\": [], \"Inversa\": [], \"Sustitución Atrás\": [], \"Sustitución Adelante\": [], \"Solver Diagonal\": [], \"Algoritmo de Thomas\": []}\n",
        "\n",
        "for n in tamanos:\n",
        "    A, DP, DS, DI = crear_matriz_tribanda(n)\n",
        "    b = np.ones(n)\n",
        "    D = np.diag(DP)\n",
        "    P, L, U = lu(A)\n",
        "\n",
        "    inicio = time.time()\n",
        "    determinante(A)\n",
        "    tiempos[\"Determinante\"].append(time.time() - inicio)\n",
        "\n",
        "    inicio = time.time()\n",
        "    inversa(A)\n",
        "    tiempos[\"Inversa\"].append(time.time() - inicio)\n",
        "\n",
        "    inicio = time.time()\n",
        "    sustitucion_atras(U, b)\n",
        "    tiempos[\"Sustitución Atrás\"].append(time.time() - inicio)\n",
        "\n",
        "    inicio = time.time()\n",
        "    sustitucion_adelante(L, b)\n",
        "    tiempos[\"Sustitución Adelante\"].append(time.time() - inicio)\n",
        "\n",
        "    inicio = time.time()\n",
        "    solver_diagonal(D, b)\n",
        "    tiempos[\"Solver Diagonal\"].append(time.time() - inicio)\n",
        "\n",
        "    inicio = time.time()\n",
        "    Thomas(DP, DS, DI, b)\n",
        "    tiempos[\"Algoritmo de Thomas\"].append(time.time() - inicio)\n",
        "\n",
        "    mejor_metodo = min(tiempos, key=lambda metodo: tiempos[metodo][-1])\n",
        "    print(f\"Tamaño de la matriz: {n}x{n}\")\n",
        "    for metodo, valores in tiempos.items():\n",
        "        print(f\"Tiempo {metodo}: {valores[-1]:.6f} s\")\n",
        "    print(f\"Mejor tiempo: {mejor_metodo}\\n\")\n",
        "\n",
        "plt.figure(figsize=(10,6))\n",
        "for metodo, valores in tiempos.items():\n",
        "    plt.plot(tamanos, valores, label=metodo, marker='o')\n",
        "plt.xlabel(\"Tamaño de la Matriz\")\n",
        "plt.ylabel(\"Tiempo de Ejecución (s)\")\n",
        "plt.title(\"Comparación de Métodos Numéricos\")\n",
        "plt.legend()\n",
        "plt.grid()\n",
        "plt.show()\n"
      ],
      "metadata": {
        "colab": {
          "base_uri": "https://localhost:8080/",
          "height": 1000
        },
        "id": "jax0sdLH9jw1",
        "outputId": "e92da1b8-dcf5-4487-d391-007b0eeb86e3"
      },
      "execution_count": null,
      "outputs": [
        {
          "output_type": "stream",
          "name": "stdout",
          "text": [
            "Tamaño de la matriz: 10x10\n",
            "Tiempo Determinante: 0.000112 s\n",
            "Tiempo Inversa: 0.000078 s\n",
            "Tiempo Sustitución Atrás: 0.000065 s\n",
            "Tiempo Sustitución Adelante: 0.000036 s\n",
            "Tiempo Solver Diagonal: 0.000027 s\n",
            "Tiempo Algoritmo de Thomas: 0.000046 s\n",
            "Mejor tiempo: Solver Diagonal\n",
            "\n",
            "Tamaño de la matriz: 20x20\n",
            "Tiempo Determinante: 0.000050 s\n",
            "Tiempo Inversa: 0.000062 s\n",
            "Tiempo Sustitución Atrás: 0.000081 s\n",
            "Tiempo Sustitución Adelante: 0.000071 s\n",
            "Tiempo Solver Diagonal: 0.000018 s\n",
            "Tiempo Algoritmo de Thomas: 0.000077 s\n",
            "Mejor tiempo: Solver Diagonal\n",
            "\n",
            "Tamaño de la matriz: 30x30\n",
            "Tiempo Determinante: 0.000048 s\n",
            "Tiempo Inversa: 0.000078 s\n",
            "Tiempo Sustitución Atrás: 0.000107 s\n",
            "Tiempo Sustitución Adelante: 0.000103 s\n",
            "Tiempo Solver Diagonal: 0.000015 s\n",
            "Tiempo Algoritmo de Thomas: 0.000090 s\n",
            "Mejor tiempo: Solver Diagonal\n",
            "\n",
            "Tamaño de la matriz: 40x40\n",
            "Tiempo Determinante: 0.000056 s\n",
            "Tiempo Inversa: 0.000091 s\n",
            "Tiempo Sustitución Atrás: 0.000149 s\n",
            "Tiempo Sustitución Adelante: 0.000119 s\n",
            "Tiempo Solver Diagonal: 0.000016 s\n",
            "Tiempo Algoritmo de Thomas: 0.000120 s\n",
            "Mejor tiempo: Solver Diagonal\n",
            "\n",
            "Tamaño de la matriz: 50x50\n",
            "Tiempo Determinante: 0.000070 s\n",
            "Tiempo Inversa: 0.000138 s\n",
            "Tiempo Sustitución Atrás: 0.000192 s\n",
            "Tiempo Sustitución Adelante: 0.000185 s\n",
            "Tiempo Solver Diagonal: 0.000016 s\n",
            "Tiempo Algoritmo de Thomas: 0.000203 s\n",
            "Mejor tiempo: Solver Diagonal\n",
            "\n",
            "Tamaño de la matriz: 60x60\n",
            "Tiempo Determinante: 0.000103 s\n",
            "Tiempo Inversa: 0.000225 s\n",
            "Tiempo Sustitución Atrás: 0.000245 s\n",
            "Tiempo Sustitución Adelante: 0.000213 s\n",
            "Tiempo Solver Diagonal: 0.000016 s\n",
            "Tiempo Algoritmo de Thomas: 0.000231 s\n",
            "Mejor tiempo: Solver Diagonal\n",
            "\n",
            "Tamaño de la matriz: 70x70\n",
            "Tiempo Determinante: 0.000136 s\n",
            "Tiempo Inversa: 0.000266 s\n",
            "Tiempo Sustitución Atrás: 0.000279 s\n",
            "Tiempo Sustitución Adelante: 0.000243 s\n",
            "Tiempo Solver Diagonal: 0.000017 s\n",
            "Tiempo Algoritmo de Thomas: 0.000258 s\n",
            "Mejor tiempo: Solver Diagonal\n",
            "\n",
            "Tamaño de la matriz: 80x80\n",
            "Tiempo Determinante: 0.000142 s\n",
            "Tiempo Inversa: 0.000346 s\n",
            "Tiempo Sustitución Atrás: 0.000295 s\n",
            "Tiempo Sustitución Adelante: 0.000295 s\n",
            "Tiempo Solver Diagonal: 0.000019 s\n",
            "Tiempo Algoritmo de Thomas: 0.000301 s\n",
            "Mejor tiempo: Solver Diagonal\n",
            "\n",
            "Tamaño de la matriz: 90x90\n",
            "Tiempo Determinante: 0.000200 s\n",
            "Tiempo Inversa: 0.000430 s\n",
            "Tiempo Sustitución Atrás: 0.000319 s\n",
            "Tiempo Sustitución Adelante: 0.000333 s\n",
            "Tiempo Solver Diagonal: 0.000019 s\n",
            "Tiempo Algoritmo de Thomas: 0.000351 s\n",
            "Mejor tiempo: Solver Diagonal\n",
            "\n",
            "Tamaño de la matriz: 100x100\n",
            "Tiempo Determinante: 0.000219 s\n",
            "Tiempo Inversa: 0.002093 s\n",
            "Tiempo Sustitución Atrás: 0.000367 s\n",
            "Tiempo Sustitución Adelante: 0.000361 s\n",
            "Tiempo Solver Diagonal: 0.000018 s\n",
            "Tiempo Algoritmo de Thomas: 0.000370 s\n",
            "Mejor tiempo: Solver Diagonal\n",
            "\n"
          ]
        },
        {
          "output_type": "display_data",
          "data": {
            "text/plain": [
              "<Figure size 1000x600 with 1 Axes>"
            ],
            "image/png": "[encoded data removed]"
          },
          "metadata": {}
        }
      ]
    },
    {
      "cell_type": "markdown",
      "source": [
        "**VERSION 2**"
      ],
      "metadata": {
        "id": "ZWe3JPXW9t_Q"
      }
    },
    {
      "cell_type": "code",
      "source": [
        "import numpy as np\n",
        "from numpy import linalg as LA\n",
        "from scipy.linalg import lu\n",
        "import matplotlib.pyplot as plt\n",
        "import time\n",
        "\n",
        "# Función para crear matrices tridiagonales\n",
        "def crear_matriz_tribanda(n):\n",
        "    DP = 2 * np.ones(n)\n",
        "    DS = -1 * np.ones(n-1)\n",
        "    DI = -1 * np.ones(n-1)\n",
        "    return np.diag(DP) + np.diag(DS, k=1) + np.diag(DI, k=-1), DP, DS, DI\n",
        "\n",
        "# Funciones matemáticas\n",
        "def determinante(A):\n",
        "    return LA.det(A)\n",
        "\n",
        "def inversa(A):\n",
        "    return LA.inv(A)\n",
        "\n",
        "def sustitucion_atras(U, b):\n",
        "    n = len(b)\n",
        "    x = np.zeros(n)\n",
        "    for i in range(n-1, -1, -1):\n",
        "        x[i] = (b[i] - np.dot(U[i, i+1:], x[i+1:])) / U[i, i]\n",
        "    return x\n",
        "\n",
        "def sustitucion_adelante(L, b):\n",
        "    n = len(b)\n",
        "    x = np.zeros(n)\n",
        "    for i in range(n):\n",
        "        x[i] = (b[i] - np.dot(L[i, :i], x[:i])) / L[i, i]\n",
        "    return x\n",
        "\n",
        "def solver_diagonal(D, b):\n",
        "    return b / np.diag(D)\n",
        "\n",
        "def Thomas(DP, DS, DI, b):\n",
        "    n = len(DP)\n",
        "    x = np.zeros(n)\n",
        "    DP, DS, DI, b = DP.copy(), DS.copy(), DI.copy(), b.copy()\n",
        "\n",
        "    for i in range(1, n):\n",
        "        factor = DI[i-1] / DP[i-1]\n",
        "        DP[i] -= factor * DS[i-1]\n",
        "        b[i] -= factor * b[i-1]\n",
        "\n",
        "    x[-1] = b[-1] / DP[-1]\n",
        "    for i in range(n-2, -1, -1):\n",
        "        x[i] = (b[i] - DS[i] * x[i+1]) / DP[i]\n",
        "\n",
        "    return x\n"
      ],
      "metadata": {
        "id": "1mGbwRwz9yK0"
      },
      "execution_count": null,
      "outputs": []
    },
    {
      "cell_type": "code",
      "source": [
        "# Lista de tamaños de matriz a probar\n",
        "tamanos = list(range(10, 110, 10))\n",
        "\n",
        "# Diccionario para guardar los tiempos\n",
        "tiempos = {\n",
        "    \"Determinante\": [],\n",
        "    \"Inversa\": [],\n",
        "    \"Sustitución Atrás\": [],\n",
        "    \"Sustitución Adelante\": [],\n",
        "    \"Solver Diagonal\": [],\n",
        "    \"Algoritmo de Thomas\": []\n",
        "}\n",
        "\n",
        "# Medir tiempos para cada tamaño de matriz\n",
        "for n in tamanos:\n",
        "    A, DP, DS, DI = crear_matriz_tribanda(n)\n",
        "    b = np.ones(n)\n",
        "    D = np.diag(DP)\n",
        "    P, L, U = lu(A)\n",
        "\n",
        "    # Medir tiempo de determinante\n",
        "    inicio = time.time()\n",
        "    determinante(A)\n",
        "    tiempos[\"Determinante\"].append(time.time() - inicio)\n",
        "\n",
        "    # Medir tiempo de inversa\n",
        "    inicio = time.time()\n",
        "    inversa(A)\n",
        "    tiempos[\"Inversa\"].append(time.time() - inicio)\n",
        "\n",
        "    # Medir tiempo de sustitución atrás\n",
        "    inicio = time.time()\n",
        "    sustitucion_atras(U, b)\n",
        "    tiempos[\"Sustitución Atrás\"].append(time.time() - inicio)\n",
        "\n",
        "    # Medir tiempo de sustitución adelante\n",
        "    inicio = time.time()\n",
        "    sustitucion_adelante(L, b)\n",
        "    tiempos[\"Sustitución Adelante\"].append(time.time() - inicio)\n",
        "\n",
        "    # Medir tiempo del solver diagonal\n",
        "    inicio = time.time()\n",
        "    solver_diagonal(D, b)\n",
        "    tiempos[\"Solver Diagonal\"].append(time.time() - inicio)\n",
        "\n",
        "    # Medir tiempo del algoritmo de Thomas\n",
        "    inicio = time.time()\n",
        "    Thomas(DP, DS, DI, b)\n",
        "    tiempos[\"Algoritmo de Thomas\"].append(time.time() - inicio)\n",
        "\n",
        "# Mostrar resultados de tiempos\n",
        "for metodo, valores in tiempos.items():\n",
        "    print(f\"Tiempos para {metodo}: {valores}\")\n"
      ],
      "metadata": {
        "colab": {
          "base_uri": "https://localhost:8080/"
        },
        "id": "VnZ3g0pl95Qr",
        "outputId": "ac712a74-4d84-48b3-9f07-933a166307aa"
      },
      "execution_count": null,
      "outputs": [
        {
          "output_type": "stream",
          "name": "stdout",
          "text": [
            "Tiempos para Determinante: [0.0001049041748046875, 5.340576171875e-05, 5.364418029785156e-05, 6.389617919921875e-05, 8.511543273925781e-05, 0.00010657310485839844, 0.0001251697540283203, 0.0001418590545654297, 0.00017023086547851562, 0.00022530555725097656]\n",
            "Tiempos para Inversa: [9.107589721679688e-05, 6.699562072753906e-05, 8.726119995117188e-05, 0.00010371208190917969, 0.00015974044799804688, 0.00021529197692871094, 0.0002949237823486328, 0.0003490447998046875, 0.00046324729919433594, 0.000453948974609375]\n",
            "Tiempos para Sustitución Atrás: [7.557868957519531e-05, 8.606910705566406e-05, 0.00011515617370605469, 0.00014591217041015625, 0.00018644332885742188, 0.0002536773681640625, 0.00025582313537597656, 0.00029969215393066406, 0.0003371238708496094, 0.00035119056701660156]\n",
            "Tiempos para Sustitución Adelante: [4.553794860839844e-05, 7.224082946777344e-05, 0.00013518333435058594, 0.00013709068298339844, 0.00019311904907226562, 0.0002129077911376953, 0.0002579689025878906, 0.00026869773864746094, 0.0003056526184082031, 0.00034880638122558594]\n",
            "Tiempos para Solver Diagonal: [3.361701965332031e-05, 1.9788742065429688e-05, 2.0503997802734375e-05, 1.9311904907226562e-05, 1.9788742065429688e-05, 2.0503997802734375e-05, 2.0503997802734375e-05, 2.193450927734375e-05, 3.9577484130859375e-05, 1.7404556274414062e-05]\n",
            "Tiempos para Algoritmo de Thomas: [5.4836273193359375e-05, 0.0001010894775390625, 0.00010919570922851562, 0.00016927719116210938, 0.0001876354217529297, 0.00021576881408691406, 0.0002551078796386719, 0.00031280517578125, 0.00030350685119628906, 0.0003688335418701172]\n"
          ]
        }
      ]
    },
    {
      "cell_type": "code",
      "source": [
        "# Configurar la figura\n",
        "plt.figure(figsize=(10,6))\n",
        "\n",
        "# Graficar cada método con su respectiva curva de tiempo\n",
        "for metodo, valores in tiempos.items():\n",
        "    plt.plot(tamanos, valores, label=metodo, marker='o')\n",
        "\n",
        "# Etiquetas y leyenda\n",
        "plt.xlabel(\"Tamaño de la Matriz\")\n",
        "plt.ylabel(\"Tiempo de Ejecución (s)\")\n",
        "plt.title(\"Comparación de Métodos Numéricos\")\n",
        "plt.legend()\n",
        "plt.grid()\n",
        "plt.show()\n"
      ],
      "metadata": {
        "colab": {
          "base_uri": "https://localhost:8080/",
          "height": 564
        },
        "id": "HlTv3N_a977F",
        "outputId": "54336cb3-b0aa-4695-ac67-39a2b2fbf6db"
      },
      "execution_count": null,
      "outputs": [
        {
          "output_type": "display_data",
          "data": {
            "text/plain": [
              "<Figure size 1000x600 with 1 Axes>"
            ],
            "image/png": "[encoded data removed]"
          },
          "metadata": {}
        }
      ]
    },
    {
      "cell_type": "markdown",
      "source": [
        "# **3.0**"
      ],
      "metadata": {
        "id": "HMh0FY-UHlF-"
      }
    },
    {
      "cell_type": "code",
      "source": [
        "import numpy as np\n",
        "import matplotlib.pyplot as plt\n",
        "import time\n",
        "from scipy.linalg import lu\n",
        "\n",
        "# Función manual para calcular el determinante usando eliminación de Gauss\n",
        "def SubMat(Mat, ren, col):\n",
        "    \"\"\"\n",
        "    Calcula el determinante de una matriz cuadrada usando eliminación de Gauss.\n",
        "    \"\"\"\n",
        "   # Crear una copia de la matriz original para no modificarla\n",
        "    M1 = np.copy(Mat)\n",
        "\n",
        "    # Eliminar el renglón especificado\n",
        "    M1 = np.delete(M1, ren, axis=0)\n",
        "\n",
        "    # Eliminar la columna especificada\n",
        "    M1 = np.delete(M1, col, axis=1)\n",
        "\n",
        "    return M1\n",
        "\n",
        "def Det(Mat):\n",
        "\n",
        "    # Caso base: matriz 2x2\n",
        "    if Mat.shape[0] == 2 and Mat.shape[1] == 2:\n",
        "        return Mat[0][0] * Mat[1][1] - (Mat[0][1] * Mat[1][0])\n",
        "\n",
        "    # Caso recursivo: matrices más grandes\n",
        "    deter = 0.0\n",
        "    for col in range(Mat.shape[0]):\n",
        "        # Calcula el cofactor y suma al determinante\n",
        "        deter += ((-1) ** col) * Mat[0][col] * Det(SubMat(Mat, 0, col))\n",
        "    return deter\n",
        "\n",
        "####solvinv\n",
        "\n",
        "\n",
        "def Transpuesta(Mat):\n",
        "\n",
        "    for ren in range(Mat.shape[0]):\n",
        "        for col in range(Mat.shape[1]):\n",
        "            if ren < col:\n",
        "                # Intercambia los elementos para obtener la transpuesta\n",
        "                Mat[ren, col], Mat[col, ren] = Mat[col, ren], Mat[ren, col]\n",
        "    return Mat\n",
        "\n",
        "\n",
        "\n",
        "def Cofactores(Mat):\n",
        "\n",
        "    # Crear una matriz de ceros del mismo tamaño que Mat para almacenar los cofactores\n",
        "    Cofa = np.zeros_like(Mat, dtype=float)\n",
        "\n",
        "    # Calcular el cofactor para cada elemento de la matriz\n",
        "    for ren in range(Mat.shape[0]):\n",
        "        for col in range(Mat.shape[1]):\n",
        "            # Calcular el determinante de la submatriz (menor) y aplicar el signo\n",
        "            Cofa[ren, col] = ((-1) ** (ren + col)) * Det(SubMat(Mat, ren, col))\n",
        "    return Cofa\n",
        "\n",
        "\n",
        "def Inv(Mat):\n",
        "\n",
        "    # Calcular el determinante de la matriz\n",
        "    deter = Det(Mat)\n",
        "\n",
        "    # Verificar si la matriz es singular (determinante = 0)\n",
        "    if deter == 0:\n",
        "        raise ValueError(\"La matriz es singular y no tiene inversa.\")\n",
        "\n",
        "    # Calcular la matriz de cofactores\n",
        "    Cofac = Cofactores(Mat)\n",
        "\n",
        "    # Transponer la matriz de cofactores para obtener la matriz adjunta\n",
        "    Cofac = Transpuesta(Cofac)\n",
        "\n",
        "    # Calcular la inversa multiplicando la adjunta por 1/determinante\n",
        "    Inversa = (1 / deter) * Cofac\n",
        "\n",
        "    return Inversa\n",
        "\n",
        "\n",
        "\n",
        "def SolveInv(Mat, vec):\n",
        "\n",
        "    # Calcular la inversa de la matriz\n",
        "    InvMat = Inv(Mat)\n",
        "\n",
        "    # Multiplicar la inversa por el vector de términos independientes\n",
        "    Solucion = InvMat @ vec\n",
        "\n",
        "    return Solucion\n",
        "\n",
        "\n",
        "\n",
        "\n",
        "####SUSTITUCION ATRAS\n",
        "\n",
        "\n",
        "def SustitucionAtras(Mat, b):\n",
        "\n",
        "    n = Mat.shape[0]\n",
        "    x = np.zeros(n)\n",
        "\n",
        "    for i in range(n-1, -1, -1):\n",
        "        SumCum = 0.0\n",
        "        for j in range(i+1, n):\n",
        "            SumCum += Mat[i, j] * x[j]\n",
        "        x[i] = (b[i] - SumCum) / Mat[i, i]\n",
        "\n",
        "    return x\n",
        "####SUSTITUCION DELANTE\n",
        "\n",
        "\n",
        "\n",
        "def SustitucionDelante(Mat, b):\n",
        "\n",
        "    n = Mat.shape[0]\n",
        "    x = np.zeros(n)\n",
        "\n",
        "    for i in range(n):\n",
        "        SumCum = 0.0\n",
        "        for j in range(i):\n",
        "            SumCum += Mat[i, j] * x[j]\n",
        "        x[i] = (b[i] - SumCum) / Mat[i, i]\n",
        "\n",
        "    return x\n",
        "\n",
        "\n",
        "###SOLVER DIAGONAL\n",
        "\n",
        "\n",
        "def SolverDiagonal(A, b):\n",
        "\n",
        "    n = len(A)\n",
        "    x = np.zeros_like(A, dtype=float)  # Asegura que x sea de tipo flotante\n",
        "    for i in range(n):\n",
        "        x[i] = b[i] / A[i]\n",
        "    return x\n",
        "\n",
        "\n",
        "\n",
        "###THOMAS\n",
        "def Thomas(DP,DS,DI,b):\n",
        "  n=len(DP)\n",
        "  x=np.zeros(n)\n",
        "\n",
        "  for i in range(1,n):\n",
        "    DP[i]=DP[i]-(DI[i-1]/DP[i-1])*DS[i-1]\n",
        "\n",
        "\n",
        "  x[-1]=b[-1]/DP[-1]\n",
        "\n",
        "  for i in range(n-2,-1,-1):\n",
        "    x[i]=(b[i]-DS[i]*x[i+1])/DP[i]\n",
        "  return x\n",
        "\n",
        "\n",
        "# Medición de tiempos\n",
        "def medir_tiempos():\n",
        "    tamanos = list(range(3, 11))\n",
        "    tiempos = {\"Determinante\": [], \"Inversa\": [], \"Sustitución Atrás\": [],\n",
        "               \"Sustitución Adelante\": [], \"Solver Diagonal\": [], \"Algoritmo de Thomas\": []}\n",
        "\n",
        "    for n in tamanos:\n",
        "        A = np.array([[j + i*n for j in range(1, n+1)] for i in range(n)], dtype=float)\n",
        "        b = np.array([i+1 for i in range(n)], dtype=float)\n",
        "        D = np.diag([i+1 for i in range(n)])\n",
        "        DP = 2 * np.ones(n)\n",
        "        DS = -1 * np.ones(n-1)\n",
        "        DI = -1 * np.ones(n-1)\n",
        "        P, L, U = lu(A)\n",
        "\n",
        "        for metodo, funcion in zip(tiempos.keys(), [Det, SolveInv, SustitucionAtras, SustitucionDelante, SolverDiagonal, Thomas]):\n",
        "            inicio = time.time()\n",
        "            if metodo == \"Algoritmo de Thomas\":\n",
        "                funcion(DP, DS, DI, b)\n",
        "            elif metodo in [\"Sustitución Atrás\", \"Sustitución Adelante\", \"Solver Diagonal\"]:\n",
        "                funcion(A, b)\n",
        "            else:\n",
        "                funcion(A)\n",
        "            tiempos[metodo].append(time.time() - inicio)\n",
        "\n",
        "        mejor_metodo = min(tiempos, key=lambda metodo: tiempos[metodo][-1])\n",
        "        print(f\"Tamaño de la matriz: {n}x{n}\")\n",
        "        for metodo, valores in tiempos.items():\n",
        "            print(f\"Tiempo {metodo}: {valores[-1]:.6f} s\")\n",
        "        print(f\"Mejor tiempo: {mejor_metodo}\\n\")\n",
        "\n",
        "    return tamanos, tiempos\n",
        "\n",
        "# Obtener los tiempos\n",
        "tamanos, tiempos = medir_tiempos()\n",
        "\n",
        "# Graficar los tiempos de ejecución con escala logarítmica\n",
        "plt.figure(figsize=(10,6))\n",
        "for metodo, valores in tiempos.items():\n",
        "    plt.plot(tamanos, valores, label=metodo, marker='o', linestyle='--')\n",
        "plt.xlabel(\"Tamaño de la Matriz\")\n",
        "plt.ylabel(\"Tiempo de Ejecución (s)\")\n",
        "plt.yscale(\"log\")\n",
        "plt.title(\"Comparación de Métodos Numéricos\")\n",
        "plt.legend()\n",
        "plt.grid(which=\"both\", linestyle=\"--\", linewidth=0.5)\n",
        "plt.show()"
      ],
      "metadata": {
        "id": "9guNiFHMHqGC",
        "colab": {
          "base_uri": "https://localhost:8080/",
          "height": 332
        },
        "outputId": "c23da7f5-493b-4b42-e248-72620fcbd25e"
      },
      "execution_count": 1,
      "outputs": [
        {
          "output_type": "error",
          "ename": "TypeError",
          "evalue": "SolveInv() missing 1 required positional argument: 'vec'",
          "traceback": [
            "\u001b[0;31m---------------------------------------------------------------------------\u001b[0m",
            "\u001b[0;31mTypeError\u001b[0m                                 Traceback (most recent call last)",
            "\u001b[0;32m<ipython-input-1-80949b310f88>\u001b[0m in \u001b[0;36m<cell line: 0>\u001b[0;34m()\u001b[0m\n\u001b[1;32m    191\u001b[0m \u001b[0;34m\u001b[0m\u001b[0m\n\u001b[1;32m    192\u001b[0m \u001b[0;31m# Obtener los tiempos\u001b[0m\u001b[0;34m\u001b[0m\u001b[0;34m\u001b[0m\u001b[0m\n\u001b[0;32m--> 193\u001b[0;31m \u001b[0mtamanos\u001b[0m\u001b[0;34m,\u001b[0m \u001b[0mtiempos\u001b[0m \u001b[0;34m=\u001b[0m \u001b[0mmedir_tiempos\u001b[0m\u001b[0;34m(\u001b[0m\u001b[0;34m)\u001b[0m\u001b[0;34m\u001b[0m\u001b[0;34m\u001b[0m\u001b[0m\n\u001b[0m\u001b[1;32m    194\u001b[0m \u001b[0;34m\u001b[0m\u001b[0m\n\u001b[1;32m    195\u001b[0m \u001b[0;31m# Graficar los tiempos de ejecución con escala logarítmica\u001b[0m\u001b[0;34m\u001b[0m\u001b[0;34m\u001b[0m\u001b[0m\n",
            "\u001b[0;32m<ipython-input-1-80949b310f88>\u001b[0m in \u001b[0;36mmedir_tiempos\u001b[0;34m()\u001b[0m\n\u001b[1;32m    179\u001b[0m                 \u001b[0mfuncion\u001b[0m\u001b[0;34m(\u001b[0m\u001b[0mA\u001b[0m\u001b[0;34m,\u001b[0m \u001b[0mb\u001b[0m\u001b[0;34m)\u001b[0m\u001b[0;34m\u001b[0m\u001b[0;34m\u001b[0m\u001b[0m\n\u001b[1;32m    180\u001b[0m             \u001b[0;32melse\u001b[0m\u001b[0;34m:\u001b[0m\u001b[0;34m\u001b[0m\u001b[0;34m\u001b[0m\u001b[0m\n\u001b[0;32m--> 181\u001b[0;31m                 \u001b[0mfuncion\u001b[0m\u001b[0;34m(\u001b[0m\u001b[0mA\u001b[0m\u001b[0;34m)\u001b[0m\u001b[0;34m\u001b[0m\u001b[0;34m\u001b[0m\u001b[0m\n\u001b[0m\u001b[1;32m    182\u001b[0m             \u001b[0mtiempos\u001b[0m\u001b[0;34m[\u001b[0m\u001b[0mmetodo\u001b[0m\u001b[0;34m]\u001b[0m\u001b[0;34m.\u001b[0m\u001b[0mappend\u001b[0m\u001b[0;34m(\u001b[0m\u001b[0mtime\u001b[0m\u001b[0;34m.\u001b[0m\u001b[0mtime\u001b[0m\u001b[0;34m(\u001b[0m\u001b[0;34m)\u001b[0m \u001b[0;34m-\u001b[0m \u001b[0minicio\u001b[0m\u001b[0;34m)\u001b[0m\u001b[0;34m\u001b[0m\u001b[0;34m\u001b[0m\u001b[0m\n\u001b[1;32m    183\u001b[0m \u001b[0;34m\u001b[0m\u001b[0m\n",
            "\u001b[0;31mTypeError\u001b[0m: SolveInv() missing 1 required positional argument: 'vec'"
          ]
        }
      ]
    },
    {
      "cell_type": "markdown",
      "source": [
        "# **Ejercicio 2.3**"
      ],
      "metadata": {
        "id": "aQMmUBm5xDux"
      }
    },
    {
      "cell_type": "code",
      "source": [
        "def SolBandas(matriz, b):\n",
        "    \"\"\"\n",
        "    Resuelve un sistema de ecuaciones lineales con una matriz de dos bandas.\n",
        "\n",
        "    Parámetros:\n",
        "    matriz (np.array): Matriz de coeficientes.\n",
        "    b (np.array): Vector de términos independientes.\n",
        "\n",
        "    Retorna:\n",
        "    np.array: Vector solución.\n",
        "    \"\"\"\n",
        "    x = np.zeros_like(b)\n",
        "    if np.any(np.diagonal(matriz, offset=1) == 0) and np.any(np.diagonal(matriz, offset=-1)) != 0:\n",
        "        # Sustitución hacia adelante\n",
        "        for i in range(len(matriz)):\n",
        "            x[i] = (b[i] - matriz[i, i - 1] * x[i - 1]) / matriz[i, i]\n",
        "    elif np.any(np.diagonal(matriz, offset=1) != 0) and np.any(np.diagonal(matriz, offset=-1)) == 0:\n",
        "        # Sustitución hacia atrás\n",
        "        for i in range(len(matriz) - 1, -1, -1):\n",
        "            if i == len(matriz) - 1:\n",
        "                x[i] = b[i] / matriz[i, i]\n",
        "            else:\n",
        "                x[i] = (b[i] - matriz[i, i + 1] * x[i + 1]) / matriz[i, i]\n",
        "    return x\n",
        "\n",
        "\n",
        "# Ejemplo de uso\n",
        "A = np.array([[1, 1, 0],\n",
        "              [0, -1, 3],\n",
        "              [0, 0, -1]])\n",
        "b = [1, 1, 1]\n",
        "\n",
        "print(\"Solución del sistema de bandas:\", SolBandas(A, b))"
      ],
      "metadata": {
        "colab": {
          "base_uri": "https://localhost:8080/"
        },
        "id": "UdbQHl-Qolaz",
        "outputId": "3b87910a-83a0-48ee-d558-ea1beba73bf6"
      },
      "execution_count": null,
      "outputs": [
        {
          "output_type": "stream",
          "name": "stdout",
          "text": [
            "Solución del sistema de bandas: [ 5 -4 -1]\n"
          ]
        }
      ]
    },
    {
      "cell_type": "markdown",
      "source": [
        "# **Ejercicio 2.4**"
      ],
      "metadata": {
        "id": "erCyD4hHFOag"
      }
    },
    {
      "cell_type": "code",
      "source": [
        "import numpy as np\n",
        "\n",
        "def Thomas_adelante(DP, DS, DI, b):\n",
        "    \"\"\"\n",
        "    Algoritmo de Thomas modificado con sustitución hacia adelante.\n",
        "    DP: Diagonal principal\n",
        "    DS: Diagonal superior\n",
        "    DI: Diagonal inferior\n",
        "    b: Vector de términos independientes\n",
        "    \"\"\"\n",
        "    n = len(DP)\n",
        "    x = np.zeros(n)\n",
        "    DP, DS, DI, b = DP.copy(), DS.copy(), DI.copy(), b.copy()\n",
        "\n",
        "    # Eliminación hacia adelante\n",
        "    for i in range(1, n):\n",
        "        factor = DI[i-1] / DP[i-1]\n",
        "        DP[i] -= factor * DS[i-1]\n",
        "        b[i] -= factor * b[i-1]\n",
        "\n",
        "    # Sustitución hacia adelante\n",
        "    x[0] = b[0] / DP[0]\n",
        "    for i in range(1, n):\n",
        "        x[i] = (b[i] - DI[i-1] * x[i-1]) / DP[i]\n",
        "\n",
        "    return x\n",
        "\n",
        "# Ejemplo de uso\n",
        "DP = np.array([2.0, 2.0, 2.0, 2.0])  # Diagonal principal\n",
        "DS = np.array([-1.0, -1.0, -1.0])    # Diagonal superior\n",
        "DI = np.array([-1.0, -1.0, -1.0])    # Diagonal inferior\n",
        "b = np.array([1.0, 2.0, 3.0, 4.0])   # Vector b\n",
        "\n",
        "solucion = Thomas_adelante(DP, DS, DI, b)\n",
        "print(\"Solución del sistema:\", solucion)"
      ],
      "metadata": {
        "id": "s1j-bpJXFd-O",
        "outputId": "94584ab7-587c-4d1e-ffd8-b362ee7ca5db",
        "colab": {
          "base_uri": "https://localhost:8080/"
        }
      },
      "execution_count": null,
      "outputs": [
        {
          "output_type": "stream",
          "name": "stdout",
          "text": [
            "Solución del sistema: [ 0.5  2.   5.  10. ]\n"
          ]
        }
      ]
    }
  ]
}